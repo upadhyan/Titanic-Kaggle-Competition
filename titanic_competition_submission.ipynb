{
  "nbformat": 4,
  "nbformat_minor": 0,
  "metadata": {
    "kernelspec": {
      "language": "python",
      "display_name": "Python 3",
      "name": "python3"
    },
    "language_info": {
      "name": "python",
      "version": "3.7.10",
      "mimetype": "text/x-python",
      "codemirror_mode": {
        "name": "ipython",
        "version": 3
      },
      "pygments_lexer": "ipython3",
      "nbconvert_exporter": "python",
      "file_extension": ".py"
    },
    "colab": {
      "name": "titanic-competition-submission.ipynb",
      "provenance": [],
      "machine_shape": "hm",
      "include_colab_link": true
    }
  },
  "cells": [
    {
      "cell_type": "markdown",
      "metadata": {
        "id": "view-in-github",
        "colab_type": "text"
      },
      "source": [
        "<a href=\"https://colab.research.google.com/github/upadhyan/Titanic-Kaggle-Competition/blob/main/titanic_competition_submission.ipynb\" target=\"_parent\"><img src=\"https://colab.research.google.com/assets/colab-badge.svg\" alt=\"Open In Colab\"/></a>"
      ]
    },
    {
      "cell_type": "markdown",
      "metadata": {
        "id": "Toyc-_jAgV26"
      },
      "source": [
        "# Titanic Competition Submission\n",
        "Before running any code, lets import the relevant packages\n"
      ]
    },
    {
      "cell_type": "code",
      "metadata": {
        "execution": {
          "iopub.status.busy": "2021-07-09T23:00:25.661525Z",
          "iopub.execute_input": "2021-07-09T23:00:25.661921Z",
          "iopub.status.idle": "2021-07-09T23:00:25.666241Z",
          "shell.execute_reply.started": "2021-07-09T23:00:25.661890Z",
          "shell.execute_reply": "2021-07-09T23:00:25.665421Z"
        },
        "trusted": true,
        "colab": {
          "base_uri": "https://localhost:8080/"
        },
        "id": "F6QdpAIQgV28",
        "outputId": "8c38d791-e63a-47c9-891b-b0693733b1f3"
      },
      "source": [
        "%cd /content/drive/My\\ Drive/Colab\\ Notebooks/Titanic\n",
        "import numpy as np # linear algebra\n",
        "import pandas as pd # data processing, CSV file I/O (e.g. pd.read_csv)\n",
        "import cvxpy as cvx # optimization package\n",
        "import re # working with strings\n",
        "from statsmodels.stats.proportion import proportions_ztest # statistical testing\n",
        "import matplotlib.pyplot as plt # graphs\n",
        "from sklearn.ensemble import RandomForestClassifier # Random Forest prediction\n",
        "from sklearn.naive_bayes import GaussianNB # Naive-Bayes\n",
        "from sklearn.linear_model import LogisticRegression # Logistic Regression\n",
        "from sklearn.metrics import accuracy_score # Evaluating Predictions\n",
        "from sklearn.metrics import classification_report # Evaluating Predictions\n"
      ],
      "execution_count": 199,
      "outputs": [
        {
          "output_type": "stream",
          "text": [
            "/content/drive/My Drive/Colab Notebooks/Titanic\n"
          ],
          "name": "stdout"
        }
      ]
    },
    {
      "cell_type": "markdown",
      "metadata": {
        "id": "0wZZR5chgV2-"
      },
      "source": [
        "## Importing and Viewing Data"
      ]
    },
    {
      "cell_type": "code",
      "metadata": {
        "execution": {
          "iopub.status.busy": "2021-07-09T22:47:01.782057Z",
          "iopub.execute_input": "2021-07-09T22:47:01.782384Z",
          "iopub.status.idle": "2021-07-09T22:47:01.802103Z",
          "shell.execute_reply.started": "2021-07-09T22:47:01.782357Z",
          "shell.execute_reply": "2021-07-09T22:47:01.801202Z"
        },
        "trusted": true,
        "id": "xI9Xm3b6gV2-"
      },
      "source": [
        "train = pd.read_csv('train.csv')\n",
        "test = pd.read_csv('test.csv')"
      ],
      "execution_count": 200,
      "outputs": []
    },
    {
      "cell_type": "code",
      "metadata": {
        "execution": {
          "iopub.status.busy": "2021-07-09T22:53:56.371805Z",
          "iopub.execute_input": "2021-07-09T22:53:56.372593Z",
          "iopub.status.idle": "2021-07-09T22:53:56.407070Z",
          "shell.execute_reply.started": "2021-07-09T22:53:56.372552Z",
          "shell.execute_reply": "2021-07-09T22:53:56.406351Z"
        },
        "trusted": true,
        "colab": {
          "base_uri": "https://localhost:8080/",
          "height": 274
        },
        "id": "Cc-BTrCfgV3A",
        "outputId": "438355d3-42e4-4f5b-ec0c-a21dedc76b76"
      },
      "source": [
        "print(f'Train Set. # of rows = {train.shape[0]}')\n",
        "print(train.columns)\n",
        "train.head()"
      ],
      "execution_count": 201,
      "outputs": [
        {
          "output_type": "stream",
          "text": [
            "Train Set. # of rows = 891\n",
            "Index(['PassengerId', 'Survived', 'Pclass', 'Name', 'Sex', 'Age', 'SibSp',\n",
            "       'Parch', 'Ticket', 'Fare', 'Cabin', 'Embarked'],\n",
            "      dtype='object')\n"
          ],
          "name": "stdout"
        },
        {
          "output_type": "execute_result",
          "data": {
            "text/html": [
              "<div>\n",
              "<style scoped>\n",
              "    .dataframe tbody tr th:only-of-type {\n",
              "        vertical-align: middle;\n",
              "    }\n",
              "\n",
              "    .dataframe tbody tr th {\n",
              "        vertical-align: top;\n",
              "    }\n",
              "\n",
              "    .dataframe thead th {\n",
              "        text-align: right;\n",
              "    }\n",
              "</style>\n",
              "<table border=\"1\" class=\"dataframe\">\n",
              "  <thead>\n",
              "    <tr style=\"text-align: right;\">\n",
              "      <th></th>\n",
              "      <th>PassengerId</th>\n",
              "      <th>Survived</th>\n",
              "      <th>Pclass</th>\n",
              "      <th>Name</th>\n",
              "      <th>Sex</th>\n",
              "      <th>Age</th>\n",
              "      <th>SibSp</th>\n",
              "      <th>Parch</th>\n",
              "      <th>Ticket</th>\n",
              "      <th>Fare</th>\n",
              "      <th>Cabin</th>\n",
              "      <th>Embarked</th>\n",
              "    </tr>\n",
              "  </thead>\n",
              "  <tbody>\n",
              "    <tr>\n",
              "      <th>0</th>\n",
              "      <td>1</td>\n",
              "      <td>0</td>\n",
              "      <td>3</td>\n",
              "      <td>Braund, Mr. Owen Harris</td>\n",
              "      <td>male</td>\n",
              "      <td>22.0</td>\n",
              "      <td>1</td>\n",
              "      <td>0</td>\n",
              "      <td>A/5 21171</td>\n",
              "      <td>7.2500</td>\n",
              "      <td>NaN</td>\n",
              "      <td>S</td>\n",
              "    </tr>\n",
              "    <tr>\n",
              "      <th>1</th>\n",
              "      <td>2</td>\n",
              "      <td>1</td>\n",
              "      <td>1</td>\n",
              "      <td>Cumings, Mrs. John Bradley (Florence Briggs Th...</td>\n",
              "      <td>female</td>\n",
              "      <td>38.0</td>\n",
              "      <td>1</td>\n",
              "      <td>0</td>\n",
              "      <td>PC 17599</td>\n",
              "      <td>71.2833</td>\n",
              "      <td>C85</td>\n",
              "      <td>C</td>\n",
              "    </tr>\n",
              "    <tr>\n",
              "      <th>2</th>\n",
              "      <td>3</td>\n",
              "      <td>1</td>\n",
              "      <td>3</td>\n",
              "      <td>Heikkinen, Miss. Laina</td>\n",
              "      <td>female</td>\n",
              "      <td>26.0</td>\n",
              "      <td>0</td>\n",
              "      <td>0</td>\n",
              "      <td>STON/O2. 3101282</td>\n",
              "      <td>7.9250</td>\n",
              "      <td>NaN</td>\n",
              "      <td>S</td>\n",
              "    </tr>\n",
              "    <tr>\n",
              "      <th>3</th>\n",
              "      <td>4</td>\n",
              "      <td>1</td>\n",
              "      <td>1</td>\n",
              "      <td>Futrelle, Mrs. Jacques Heath (Lily May Peel)</td>\n",
              "      <td>female</td>\n",
              "      <td>35.0</td>\n",
              "      <td>1</td>\n",
              "      <td>0</td>\n",
              "      <td>113803</td>\n",
              "      <td>53.1000</td>\n",
              "      <td>C123</td>\n",
              "      <td>S</td>\n",
              "    </tr>\n",
              "    <tr>\n",
              "      <th>4</th>\n",
              "      <td>5</td>\n",
              "      <td>0</td>\n",
              "      <td>3</td>\n",
              "      <td>Allen, Mr. William Henry</td>\n",
              "      <td>male</td>\n",
              "      <td>35.0</td>\n",
              "      <td>0</td>\n",
              "      <td>0</td>\n",
              "      <td>373450</td>\n",
              "      <td>8.0500</td>\n",
              "      <td>NaN</td>\n",
              "      <td>S</td>\n",
              "    </tr>\n",
              "  </tbody>\n",
              "</table>\n",
              "</div>"
            ],
            "text/plain": [
              "   PassengerId  Survived  Pclass  ...     Fare Cabin  Embarked\n",
              "0            1         0       3  ...   7.2500   NaN         S\n",
              "1            2         1       1  ...  71.2833   C85         C\n",
              "2            3         1       3  ...   7.9250   NaN         S\n",
              "3            4         1       1  ...  53.1000  C123         S\n",
              "4            5         0       3  ...   8.0500   NaN         S\n",
              "\n",
              "[5 rows x 12 columns]"
            ]
          },
          "metadata": {
            "tags": []
          },
          "execution_count": 201
        }
      ]
    },
    {
      "cell_type": "code",
      "metadata": {
        "execution": {
          "iopub.status.busy": "2021-07-09T22:54:19.304936Z",
          "iopub.execute_input": "2021-07-09T22:54:19.305505Z",
          "iopub.status.idle": "2021-07-09T22:54:19.333398Z",
          "shell.execute_reply.started": "2021-07-09T22:54:19.305441Z",
          "shell.execute_reply": "2021-07-09T22:54:19.332084Z"
        },
        "trusted": true,
        "colab": {
          "base_uri": "https://localhost:8080/",
          "height": 274
        },
        "id": "PjsSUQn3gV3C",
        "outputId": "75689aaa-d05d-4b9f-d355-6ff5a254bd1d"
      },
      "source": [
        "print(f'Test Set. # of rows = {test.shape[0]}')\n",
        "print(test.columns)\n",
        "test.head()"
      ],
      "execution_count": 202,
      "outputs": [
        {
          "output_type": "stream",
          "text": [
            "Test Set. # of rows = 418\n",
            "Index(['PassengerId', 'Pclass', 'Name', 'Sex', 'Age', 'SibSp', 'Parch',\n",
            "       'Ticket', 'Fare', 'Cabin', 'Embarked'],\n",
            "      dtype='object')\n"
          ],
          "name": "stdout"
        },
        {
          "output_type": "execute_result",
          "data": {
            "text/html": [
              "<div>\n",
              "<style scoped>\n",
              "    .dataframe tbody tr th:only-of-type {\n",
              "        vertical-align: middle;\n",
              "    }\n",
              "\n",
              "    .dataframe tbody tr th {\n",
              "        vertical-align: top;\n",
              "    }\n",
              "\n",
              "    .dataframe thead th {\n",
              "        text-align: right;\n",
              "    }\n",
              "</style>\n",
              "<table border=\"1\" class=\"dataframe\">\n",
              "  <thead>\n",
              "    <tr style=\"text-align: right;\">\n",
              "      <th></th>\n",
              "      <th>PassengerId</th>\n",
              "      <th>Pclass</th>\n",
              "      <th>Name</th>\n",
              "      <th>Sex</th>\n",
              "      <th>Age</th>\n",
              "      <th>SibSp</th>\n",
              "      <th>Parch</th>\n",
              "      <th>Ticket</th>\n",
              "      <th>Fare</th>\n",
              "      <th>Cabin</th>\n",
              "      <th>Embarked</th>\n",
              "    </tr>\n",
              "  </thead>\n",
              "  <tbody>\n",
              "    <tr>\n",
              "      <th>0</th>\n",
              "      <td>892</td>\n",
              "      <td>3</td>\n",
              "      <td>Kelly, Mr. James</td>\n",
              "      <td>male</td>\n",
              "      <td>34.5</td>\n",
              "      <td>0</td>\n",
              "      <td>0</td>\n",
              "      <td>330911</td>\n",
              "      <td>7.8292</td>\n",
              "      <td>NaN</td>\n",
              "      <td>Q</td>\n",
              "    </tr>\n",
              "    <tr>\n",
              "      <th>1</th>\n",
              "      <td>893</td>\n",
              "      <td>3</td>\n",
              "      <td>Wilkes, Mrs. James (Ellen Needs)</td>\n",
              "      <td>female</td>\n",
              "      <td>47.0</td>\n",
              "      <td>1</td>\n",
              "      <td>0</td>\n",
              "      <td>363272</td>\n",
              "      <td>7.0000</td>\n",
              "      <td>NaN</td>\n",
              "      <td>S</td>\n",
              "    </tr>\n",
              "    <tr>\n",
              "      <th>2</th>\n",
              "      <td>894</td>\n",
              "      <td>2</td>\n",
              "      <td>Myles, Mr. Thomas Francis</td>\n",
              "      <td>male</td>\n",
              "      <td>62.0</td>\n",
              "      <td>0</td>\n",
              "      <td>0</td>\n",
              "      <td>240276</td>\n",
              "      <td>9.6875</td>\n",
              "      <td>NaN</td>\n",
              "      <td>Q</td>\n",
              "    </tr>\n",
              "    <tr>\n",
              "      <th>3</th>\n",
              "      <td>895</td>\n",
              "      <td>3</td>\n",
              "      <td>Wirz, Mr. Albert</td>\n",
              "      <td>male</td>\n",
              "      <td>27.0</td>\n",
              "      <td>0</td>\n",
              "      <td>0</td>\n",
              "      <td>315154</td>\n",
              "      <td>8.6625</td>\n",
              "      <td>NaN</td>\n",
              "      <td>S</td>\n",
              "    </tr>\n",
              "    <tr>\n",
              "      <th>4</th>\n",
              "      <td>896</td>\n",
              "      <td>3</td>\n",
              "      <td>Hirvonen, Mrs. Alexander (Helga E Lindqvist)</td>\n",
              "      <td>female</td>\n",
              "      <td>22.0</td>\n",
              "      <td>1</td>\n",
              "      <td>1</td>\n",
              "      <td>3101298</td>\n",
              "      <td>12.2875</td>\n",
              "      <td>NaN</td>\n",
              "      <td>S</td>\n",
              "    </tr>\n",
              "  </tbody>\n",
              "</table>\n",
              "</div>"
            ],
            "text/plain": [
              "   PassengerId  Pclass  ... Cabin Embarked\n",
              "0          892       3  ...   NaN        Q\n",
              "1          893       3  ...   NaN        S\n",
              "2          894       2  ...   NaN        Q\n",
              "3          895       3  ...   NaN        S\n",
              "4          896       3  ...   NaN        S\n",
              "\n",
              "[5 rows x 11 columns]"
            ]
          },
          "metadata": {
            "tags": []
          },
          "execution_count": 202
        }
      ]
    },
    {
      "cell_type": "markdown",
      "metadata": {
        "id": "F_G1ycANgV3D"
      },
      "source": [
        "# Initial Data Processing and Cleaning\n",
        "\n",
        "## NaN and Null Values\n",
        "\n",
        "Lets first handle NaN values in the dataset. A good starting point is counting the number of NaN values in each column"
      ]
    },
    {
      "cell_type": "code",
      "metadata": {
        "colab": {
          "base_uri": "https://localhost:8080/"
        },
        "id": "EFKmWSJhInOo",
        "outputId": "7d26369e-80cc-4958-a3ca-5cf89e83bb29"
      },
      "source": [
        "train.isna().sum()"
      ],
      "execution_count": 203,
      "outputs": [
        {
          "output_type": "execute_result",
          "data": {
            "text/plain": [
              "PassengerId      0\n",
              "Survived         0\n",
              "Pclass           0\n",
              "Name             0\n",
              "Sex              0\n",
              "Age            177\n",
              "SibSp            0\n",
              "Parch            0\n",
              "Ticket           0\n",
              "Fare             0\n",
              "Cabin          687\n",
              "Embarked         2\n",
              "dtype: int64"
            ]
          },
          "metadata": {
            "tags": []
          },
          "execution_count": 203
        }
      ]
    },
    {
      "cell_type": "markdown",
      "metadata": {
        "id": "C7GK7BL-JGQV"
      },
      "source": [
        "It seems like `Age`, `Cabin`, and `Embarked` are the only ones with NaN\n",
        "### Age\n",
        "Lets start with cleaning up Age by viewing all the NaN values"
      ]
    },
    {
      "cell_type": "code",
      "metadata": {
        "colab": {
          "base_uri": "https://localhost:8080/",
          "height": 417
        },
        "id": "JJBGmVgMJBry",
        "outputId": "dd38a009-854c-4d2d-df8a-4849cedc0354"
      },
      "source": [
        "train[train['Age'].isna()]"
      ],
      "execution_count": 204,
      "outputs": [
        {
          "output_type": "execute_result",
          "data": {
            "text/html": [
              "<div>\n",
              "<style scoped>\n",
              "    .dataframe tbody tr th:only-of-type {\n",
              "        vertical-align: middle;\n",
              "    }\n",
              "\n",
              "    .dataframe tbody tr th {\n",
              "        vertical-align: top;\n",
              "    }\n",
              "\n",
              "    .dataframe thead th {\n",
              "        text-align: right;\n",
              "    }\n",
              "</style>\n",
              "<table border=\"1\" class=\"dataframe\">\n",
              "  <thead>\n",
              "    <tr style=\"text-align: right;\">\n",
              "      <th></th>\n",
              "      <th>PassengerId</th>\n",
              "      <th>Survived</th>\n",
              "      <th>Pclass</th>\n",
              "      <th>Name</th>\n",
              "      <th>Sex</th>\n",
              "      <th>Age</th>\n",
              "      <th>SibSp</th>\n",
              "      <th>Parch</th>\n",
              "      <th>Ticket</th>\n",
              "      <th>Fare</th>\n",
              "      <th>Cabin</th>\n",
              "      <th>Embarked</th>\n",
              "    </tr>\n",
              "  </thead>\n",
              "  <tbody>\n",
              "    <tr>\n",
              "      <th>5</th>\n",
              "      <td>6</td>\n",
              "      <td>0</td>\n",
              "      <td>3</td>\n",
              "      <td>Moran, Mr. James</td>\n",
              "      <td>male</td>\n",
              "      <td>NaN</td>\n",
              "      <td>0</td>\n",
              "      <td>0</td>\n",
              "      <td>330877</td>\n",
              "      <td>8.4583</td>\n",
              "      <td>NaN</td>\n",
              "      <td>Q</td>\n",
              "    </tr>\n",
              "    <tr>\n",
              "      <th>17</th>\n",
              "      <td>18</td>\n",
              "      <td>1</td>\n",
              "      <td>2</td>\n",
              "      <td>Williams, Mr. Charles Eugene</td>\n",
              "      <td>male</td>\n",
              "      <td>NaN</td>\n",
              "      <td>0</td>\n",
              "      <td>0</td>\n",
              "      <td>244373</td>\n",
              "      <td>13.0000</td>\n",
              "      <td>NaN</td>\n",
              "      <td>S</td>\n",
              "    </tr>\n",
              "    <tr>\n",
              "      <th>19</th>\n",
              "      <td>20</td>\n",
              "      <td>1</td>\n",
              "      <td>3</td>\n",
              "      <td>Masselmani, Mrs. Fatima</td>\n",
              "      <td>female</td>\n",
              "      <td>NaN</td>\n",
              "      <td>0</td>\n",
              "      <td>0</td>\n",
              "      <td>2649</td>\n",
              "      <td>7.2250</td>\n",
              "      <td>NaN</td>\n",
              "      <td>C</td>\n",
              "    </tr>\n",
              "    <tr>\n",
              "      <th>26</th>\n",
              "      <td>27</td>\n",
              "      <td>0</td>\n",
              "      <td>3</td>\n",
              "      <td>Emir, Mr. Farred Chehab</td>\n",
              "      <td>male</td>\n",
              "      <td>NaN</td>\n",
              "      <td>0</td>\n",
              "      <td>0</td>\n",
              "      <td>2631</td>\n",
              "      <td>7.2250</td>\n",
              "      <td>NaN</td>\n",
              "      <td>C</td>\n",
              "    </tr>\n",
              "    <tr>\n",
              "      <th>28</th>\n",
              "      <td>29</td>\n",
              "      <td>1</td>\n",
              "      <td>3</td>\n",
              "      <td>O'Dwyer, Miss. Ellen \"Nellie\"</td>\n",
              "      <td>female</td>\n",
              "      <td>NaN</td>\n",
              "      <td>0</td>\n",
              "      <td>0</td>\n",
              "      <td>330959</td>\n",
              "      <td>7.8792</td>\n",
              "      <td>NaN</td>\n",
              "      <td>Q</td>\n",
              "    </tr>\n",
              "    <tr>\n",
              "      <th>...</th>\n",
              "      <td>...</td>\n",
              "      <td>...</td>\n",
              "      <td>...</td>\n",
              "      <td>...</td>\n",
              "      <td>...</td>\n",
              "      <td>...</td>\n",
              "      <td>...</td>\n",
              "      <td>...</td>\n",
              "      <td>...</td>\n",
              "      <td>...</td>\n",
              "      <td>...</td>\n",
              "      <td>...</td>\n",
              "    </tr>\n",
              "    <tr>\n",
              "      <th>859</th>\n",
              "      <td>860</td>\n",
              "      <td>0</td>\n",
              "      <td>3</td>\n",
              "      <td>Razi, Mr. Raihed</td>\n",
              "      <td>male</td>\n",
              "      <td>NaN</td>\n",
              "      <td>0</td>\n",
              "      <td>0</td>\n",
              "      <td>2629</td>\n",
              "      <td>7.2292</td>\n",
              "      <td>NaN</td>\n",
              "      <td>C</td>\n",
              "    </tr>\n",
              "    <tr>\n",
              "      <th>863</th>\n",
              "      <td>864</td>\n",
              "      <td>0</td>\n",
              "      <td>3</td>\n",
              "      <td>Sage, Miss. Dorothy Edith \"Dolly\"</td>\n",
              "      <td>female</td>\n",
              "      <td>NaN</td>\n",
              "      <td>8</td>\n",
              "      <td>2</td>\n",
              "      <td>CA. 2343</td>\n",
              "      <td>69.5500</td>\n",
              "      <td>NaN</td>\n",
              "      <td>S</td>\n",
              "    </tr>\n",
              "    <tr>\n",
              "      <th>868</th>\n",
              "      <td>869</td>\n",
              "      <td>0</td>\n",
              "      <td>3</td>\n",
              "      <td>van Melkebeke, Mr. Philemon</td>\n",
              "      <td>male</td>\n",
              "      <td>NaN</td>\n",
              "      <td>0</td>\n",
              "      <td>0</td>\n",
              "      <td>345777</td>\n",
              "      <td>9.5000</td>\n",
              "      <td>NaN</td>\n",
              "      <td>S</td>\n",
              "    </tr>\n",
              "    <tr>\n",
              "      <th>878</th>\n",
              "      <td>879</td>\n",
              "      <td>0</td>\n",
              "      <td>3</td>\n",
              "      <td>Laleff, Mr. Kristo</td>\n",
              "      <td>male</td>\n",
              "      <td>NaN</td>\n",
              "      <td>0</td>\n",
              "      <td>0</td>\n",
              "      <td>349217</td>\n",
              "      <td>7.8958</td>\n",
              "      <td>NaN</td>\n",
              "      <td>S</td>\n",
              "    </tr>\n",
              "    <tr>\n",
              "      <th>888</th>\n",
              "      <td>889</td>\n",
              "      <td>0</td>\n",
              "      <td>3</td>\n",
              "      <td>Johnston, Miss. Catherine Helen \"Carrie\"</td>\n",
              "      <td>female</td>\n",
              "      <td>NaN</td>\n",
              "      <td>1</td>\n",
              "      <td>2</td>\n",
              "      <td>W./C. 6607</td>\n",
              "      <td>23.4500</td>\n",
              "      <td>NaN</td>\n",
              "      <td>S</td>\n",
              "    </tr>\n",
              "  </tbody>\n",
              "</table>\n",
              "<p>177 rows × 12 columns</p>\n",
              "</div>"
            ],
            "text/plain": [
              "     PassengerId  Survived  Pclass  ...     Fare Cabin  Embarked\n",
              "5              6         0       3  ...   8.4583   NaN         Q\n",
              "17            18         1       2  ...  13.0000   NaN         S\n",
              "19            20         1       3  ...   7.2250   NaN         C\n",
              "26            27         0       3  ...   7.2250   NaN         C\n",
              "28            29         1       3  ...   7.8792   NaN         Q\n",
              "..           ...       ...     ...  ...      ...   ...       ...\n",
              "859          860         0       3  ...   7.2292   NaN         C\n",
              "863          864         0       3  ...  69.5500   NaN         S\n",
              "868          869         0       3  ...   9.5000   NaN         S\n",
              "878          879         0       3  ...   7.8958   NaN         S\n",
              "888          889         0       3  ...  23.4500   NaN         S\n",
              "\n",
              "[177 rows x 12 columns]"
            ]
          },
          "metadata": {
            "tags": []
          },
          "execution_count": 204
        }
      ]
    },
    {
      "cell_type": "markdown",
      "metadata": {
        "id": "eeO1whvjK0D2"
      },
      "source": [
        "There doesn't seem to be any relationship between any of the other features at a first glance (the `Cabin` column is almost all `NaN` but thats because of the properties of the dataset. Now lets see if there is a significant difference in survival proportion between the `NaN` values and the non-`NaN` values. \n",
        "\n",
        "$ H_0: \\hat{p_{NaN}} - \\hat{p_{value}}$"
      ]
    },
    {
      "cell_type": "code",
      "metadata": {
        "colab": {
          "base_uri": "https://localhost:8080/"
        },
        "id": "bj-T9e0ILOTh",
        "outputId": "fb677a95-baf6-42ed-dd3e-daf577d2c6ae"
      },
      "source": [
        "significance = 0.05\n",
        "sample_success_a, sample_size_a = (410, 500)\n",
        "sample_success_b, sample_size_b = (379, 400)\n",
        "successes = np.array([train[train['Age'].isna() & train['Survived'] == 1].shape[0], \n",
        "                      train[train['Age'].notna() & train['Survived'] == 1].shape[0]])\n",
        "samples = np.array([train[train['Age'].isna()].shape[0], \n",
        "                    train[train['Age'].notna()].shape[0]])\n",
        "stat, p_value = proportions_ztest(count=successes, nobs=samples,  alternative='two-sided')\n",
        "# report\n",
        "print(f'Proportion of Null Survivors = {successes[0]/samples[0]:.3f}')\n",
        "print(f'Proportion of Not Null Survivors = {successes[1]/samples[1]:.3f}')\n",
        "\n",
        "print('z_stat: %0.3f, p_value: %0.3f' % (stat, p_value))\n",
        "if p_value > significance:\n",
        "   print (\"Fail to reject the null hypothesis - we have nothing else to say\")\n",
        "else:\n",
        "   print (\"Reject the null hypothesis - suggest the alternative hypothesis is true\")"
      ],
      "execution_count": 205,
      "outputs": [
        {
          "output_type": "stream",
          "text": [
            "Proportion of Null Survivors = 0.294\n",
            "Proportion of Not Null Survivors = 0.406\n",
            "z_stat: -2.752, p_value: 0.006\n",
            "Reject the null hypothesis - suggest the alternative hypothesis is true\n"
          ],
          "name": "stdout"
        }
      ]
    },
    {
      "cell_type": "markdown",
      "metadata": {
        "id": "esLwyDSgTbve"
      },
      "source": [
        "Based on this, it seems as if the `NaN` age values in this mean something. It might be valuable to use a seperate method to predict the NaN age values. Lets create a feature to represent this. "
      ]
    },
    {
      "cell_type": "code",
      "metadata": {
        "colab": {
          "base_uri": "https://localhost:8080/",
          "height": 254
        },
        "id": "-ZGGyOMb1Dyr",
        "outputId": "e49b3df7-1d0b-4ec0-f5ca-dca8dfe0d0a5"
      },
      "source": [
        "train['NanAge'] = np.where(train['Age'].isna(), 1, 0)\n",
        "train.head()"
      ],
      "execution_count": 206,
      "outputs": [
        {
          "output_type": "execute_result",
          "data": {
            "text/html": [
              "<div>\n",
              "<style scoped>\n",
              "    .dataframe tbody tr th:only-of-type {\n",
              "        vertical-align: middle;\n",
              "    }\n",
              "\n",
              "    .dataframe tbody tr th {\n",
              "        vertical-align: top;\n",
              "    }\n",
              "\n",
              "    .dataframe thead th {\n",
              "        text-align: right;\n",
              "    }\n",
              "</style>\n",
              "<table border=\"1\" class=\"dataframe\">\n",
              "  <thead>\n",
              "    <tr style=\"text-align: right;\">\n",
              "      <th></th>\n",
              "      <th>PassengerId</th>\n",
              "      <th>Survived</th>\n",
              "      <th>Pclass</th>\n",
              "      <th>Name</th>\n",
              "      <th>Sex</th>\n",
              "      <th>Age</th>\n",
              "      <th>SibSp</th>\n",
              "      <th>Parch</th>\n",
              "      <th>Ticket</th>\n",
              "      <th>Fare</th>\n",
              "      <th>Cabin</th>\n",
              "      <th>Embarked</th>\n",
              "      <th>NanAge</th>\n",
              "    </tr>\n",
              "  </thead>\n",
              "  <tbody>\n",
              "    <tr>\n",
              "      <th>0</th>\n",
              "      <td>1</td>\n",
              "      <td>0</td>\n",
              "      <td>3</td>\n",
              "      <td>Braund, Mr. Owen Harris</td>\n",
              "      <td>male</td>\n",
              "      <td>22.0</td>\n",
              "      <td>1</td>\n",
              "      <td>0</td>\n",
              "      <td>A/5 21171</td>\n",
              "      <td>7.2500</td>\n",
              "      <td>NaN</td>\n",
              "      <td>S</td>\n",
              "      <td>0</td>\n",
              "    </tr>\n",
              "    <tr>\n",
              "      <th>1</th>\n",
              "      <td>2</td>\n",
              "      <td>1</td>\n",
              "      <td>1</td>\n",
              "      <td>Cumings, Mrs. John Bradley (Florence Briggs Th...</td>\n",
              "      <td>female</td>\n",
              "      <td>38.0</td>\n",
              "      <td>1</td>\n",
              "      <td>0</td>\n",
              "      <td>PC 17599</td>\n",
              "      <td>71.2833</td>\n",
              "      <td>C85</td>\n",
              "      <td>C</td>\n",
              "      <td>0</td>\n",
              "    </tr>\n",
              "    <tr>\n",
              "      <th>2</th>\n",
              "      <td>3</td>\n",
              "      <td>1</td>\n",
              "      <td>3</td>\n",
              "      <td>Heikkinen, Miss. Laina</td>\n",
              "      <td>female</td>\n",
              "      <td>26.0</td>\n",
              "      <td>0</td>\n",
              "      <td>0</td>\n",
              "      <td>STON/O2. 3101282</td>\n",
              "      <td>7.9250</td>\n",
              "      <td>NaN</td>\n",
              "      <td>S</td>\n",
              "      <td>0</td>\n",
              "    </tr>\n",
              "    <tr>\n",
              "      <th>3</th>\n",
              "      <td>4</td>\n",
              "      <td>1</td>\n",
              "      <td>1</td>\n",
              "      <td>Futrelle, Mrs. Jacques Heath (Lily May Peel)</td>\n",
              "      <td>female</td>\n",
              "      <td>35.0</td>\n",
              "      <td>1</td>\n",
              "      <td>0</td>\n",
              "      <td>113803</td>\n",
              "      <td>53.1000</td>\n",
              "      <td>C123</td>\n",
              "      <td>S</td>\n",
              "      <td>0</td>\n",
              "    </tr>\n",
              "    <tr>\n",
              "      <th>4</th>\n",
              "      <td>5</td>\n",
              "      <td>0</td>\n",
              "      <td>3</td>\n",
              "      <td>Allen, Mr. William Henry</td>\n",
              "      <td>male</td>\n",
              "      <td>35.0</td>\n",
              "      <td>0</td>\n",
              "      <td>0</td>\n",
              "      <td>373450</td>\n",
              "      <td>8.0500</td>\n",
              "      <td>NaN</td>\n",
              "      <td>S</td>\n",
              "      <td>0</td>\n",
              "    </tr>\n",
              "  </tbody>\n",
              "</table>\n",
              "</div>"
            ],
            "text/plain": [
              "   PassengerId  Survived  Pclass  ... Cabin Embarked  NanAge\n",
              "0            1         0       3  ...   NaN        S       0\n",
              "1            2         1       1  ...   C85        C       0\n",
              "2            3         1       3  ...   NaN        S       0\n",
              "3            4         1       1  ...  C123        S       0\n",
              "4            5         0       3  ...   NaN        S       0\n",
              "\n",
              "[5 rows x 13 columns]"
            ]
          },
          "metadata": {
            "tags": []
          },
          "execution_count": 206
        }
      ]
    },
    {
      "cell_type": "markdown",
      "metadata": {
        "id": "sLnKFtbk29yh"
      },
      "source": [
        "We also need to fill our `NaN` age values with something, so lets explore the age field a bit more, starting out with just plotting the valid ages and the survival column."
      ]
    },
    {
      "cell_type": "code",
      "metadata": {
        "colab": {
          "base_uri": "https://localhost:8080/",
          "height": 282
        },
        "id": "Zr_L4xo63JGI",
        "outputId": "39d948b7-b52c-49f1-946c-5b049c1c584e"
      },
      "source": [
        "plt.scatter(train[train['Age'].notna()]['Age'], train[train['Age'].notna()]['Survived'])"
      ],
      "execution_count": 207,
      "outputs": [
        {
          "output_type": "execute_result",
          "data": {
            "text/plain": [
              "<matplotlib.collections.PathCollection at 0x7fcec5ade350>"
            ]
          },
          "metadata": {
            "tags": []
          },
          "execution_count": 207
        },
        {
          "output_type": "display_data",
          "data": {
            "image/png": "[encoded data removed]",
            "text/plain": [
              "<Figure size 432x288 with 1 Axes>"
            ]
          },
          "metadata": {
            "tags": [],
            "needs_background": "light"
          }
        }
      ]
    },
    {
      "cell_type": "markdown",
      "metadata": {
        "id": "3ICJkCJJ4fTK"
      },
      "source": [
        "Lets also create a histogram of people who survived and their ages..."
      ]
    },
    {
      "cell_type": "code",
      "metadata": {
        "colab": {
          "base_uri": "https://localhost:8080/",
          "height": 281
        },
        "id": "HBzYsKlc4crZ",
        "outputId": "db222949-95bf-4d48-9df9-34bcf474d815"
      },
      "source": [
        "train[train['Age'].notna() & train['Survived'] == 1].hist('Age');"
      ],
      "execution_count": 208,
      "outputs": [
        {
          "output_type": "display_data",
          "data": {
            "image/png": "[encoded data removed]",
            "text/plain": [
              "<Figure size 432x288 with 1 Axes>"
            ]
          },
          "metadata": {
            "tags": [],
            "needs_background": "light"
          }
        }
      ]
    },
    {
      "cell_type": "markdown",
      "metadata": {
        "id": "WCdP__035wqw"
      },
      "source": [
        "People who didn't survive and their ages..."
      ]
    },
    {
      "cell_type": "code",
      "metadata": {
        "colab": {
          "base_uri": "https://localhost:8080/",
          "height": 281
        },
        "id": "H7RM94Q854IW",
        "outputId": "f8e3fbdc-b4cb-4770-ea8a-cf6750af2c28"
      },
      "source": [
        "train[train['Age'].notna() & train['Survived'] == 0].hist('Age');"
      ],
      "execution_count": 209,
      "outputs": [
        {
          "output_type": "display_data",
          "data": {
            "image/png": "[encoded data removed]",
            "text/plain": [
              "<Figure size 432x288 with 1 Axes>"
            ]
          },
          "metadata": {
            "tags": [],
            "needs_background": "light"
          }
        }
      ]
    },
    {
      "cell_type": "markdown",
      "metadata": {
        "id": "aqY6yHGN430F"
      },
      "source": [
        "and a histogram to see the distribution of ages in general."
      ]
    },
    {
      "cell_type": "code",
      "metadata": {
        "colab": {
          "base_uri": "https://localhost:8080/",
          "height": 281
        },
        "id": "je1PChUO49qF",
        "outputId": "f9130cd5-d862-40fa-afd5-9bfc6260bac4"
      },
      "source": [
        "train[train['Age'].notna()].hist('Age');"
      ],
      "execution_count": 210,
      "outputs": [
        {
          "output_type": "display_data",
          "data": {
            "image/png": "[encoded data removed]",
            "text/plain": [
              "<Figure size 432x288 with 1 Axes>"
            ]
          },
          "metadata": {
            "tags": [],
            "needs_background": "light"
          }
        }
      ]
    },
    {
      "cell_type": "markdown",
      "metadata": {
        "id": "tu6t5qlO6h8O"
      },
      "source": [
        "Looking at these charts, it seems like the younger passengers had a higher proportion of surviving. This indicates that age may be an important factor, therefore its important for us to fill the `NaN` values in. We will populate it with the mean age value. "
      ]
    },
    {
      "cell_type": "code",
      "metadata": {
        "colab": {
          "base_uri": "https://localhost:8080/",
          "height": 254
        },
        "id": "Flqo7lgO8KUV",
        "outputId": "60e9ae0b-bd5a-44d7-e351-9f9124c808ba"
      },
      "source": [
        "train['Age'].fillna(value = train['Age'].mean(), inplace = True)\n",
        "train.head()"
      ],
      "execution_count": 211,
      "outputs": [
        {
          "output_type": "execute_result",
          "data": {
            "text/html": [
              "<div>\n",
              "<style scoped>\n",
              "    .dataframe tbody tr th:only-of-type {\n",
              "        vertical-align: middle;\n",
              "    }\n",
              "\n",
              "    .dataframe tbody tr th {\n",
              "        vertical-align: top;\n",
              "    }\n",
              "\n",
              "    .dataframe thead th {\n",
              "        text-align: right;\n",
              "    }\n",
              "</style>\n",
              "<table border=\"1\" class=\"dataframe\">\n",
              "  <thead>\n",
              "    <tr style=\"text-align: right;\">\n",
              "      <th></th>\n",
              "      <th>PassengerId</th>\n",
              "      <th>Survived</th>\n",
              "      <th>Pclass</th>\n",
              "      <th>Name</th>\n",
              "      <th>Sex</th>\n",
              "      <th>Age</th>\n",
              "      <th>SibSp</th>\n",
              "      <th>Parch</th>\n",
              "      <th>Ticket</th>\n",
              "      <th>Fare</th>\n",
              "      <th>Cabin</th>\n",
              "      <th>Embarked</th>\n",
              "      <th>NanAge</th>\n",
              "    </tr>\n",
              "  </thead>\n",
              "  <tbody>\n",
              "    <tr>\n",
              "      <th>0</th>\n",
              "      <td>1</td>\n",
              "      <td>0</td>\n",
              "      <td>3</td>\n",
              "      <td>Braund, Mr. Owen Harris</td>\n",
              "      <td>male</td>\n",
              "      <td>22.0</td>\n",
              "      <td>1</td>\n",
              "      <td>0</td>\n",
              "      <td>A/5 21171</td>\n",
              "      <td>7.2500</td>\n",
              "      <td>NaN</td>\n",
              "      <td>S</td>\n",
              "      <td>0</td>\n",
              "    </tr>\n",
              "    <tr>\n",
              "      <th>1</th>\n",
              "      <td>2</td>\n",
              "      <td>1</td>\n",
              "      <td>1</td>\n",
              "      <td>Cumings, Mrs. John Bradley (Florence Briggs Th...</td>\n",
              "      <td>female</td>\n",
              "      <td>38.0</td>\n",
              "      <td>1</td>\n",
              "      <td>0</td>\n",
              "      <td>PC 17599</td>\n",
              "      <td>71.2833</td>\n",
              "      <td>C85</td>\n",
              "      <td>C</td>\n",
              "      <td>0</td>\n",
              "    </tr>\n",
              "    <tr>\n",
              "      <th>2</th>\n",
              "      <td>3</td>\n",
              "      <td>1</td>\n",
              "      <td>3</td>\n",
              "      <td>Heikkinen, Miss. Laina</td>\n",
              "      <td>female</td>\n",
              "      <td>26.0</td>\n",
              "      <td>0</td>\n",
              "      <td>0</td>\n",
              "      <td>STON/O2. 3101282</td>\n",
              "      <td>7.9250</td>\n",
              "      <td>NaN</td>\n",
              "      <td>S</td>\n",
              "      <td>0</td>\n",
              "    </tr>\n",
              "    <tr>\n",
              "      <th>3</th>\n",
              "      <td>4</td>\n",
              "      <td>1</td>\n",
              "      <td>1</td>\n",
              "      <td>Futrelle, Mrs. Jacques Heath (Lily May Peel)</td>\n",
              "      <td>female</td>\n",
              "      <td>35.0</td>\n",
              "      <td>1</td>\n",
              "      <td>0</td>\n",
              "      <td>113803</td>\n",
              "      <td>53.1000</td>\n",
              "      <td>C123</td>\n",
              "      <td>S</td>\n",
              "      <td>0</td>\n",
              "    </tr>\n",
              "    <tr>\n",
              "      <th>4</th>\n",
              "      <td>5</td>\n",
              "      <td>0</td>\n",
              "      <td>3</td>\n",
              "      <td>Allen, Mr. William Henry</td>\n",
              "      <td>male</td>\n",
              "      <td>35.0</td>\n",
              "      <td>0</td>\n",
              "      <td>0</td>\n",
              "      <td>373450</td>\n",
              "      <td>8.0500</td>\n",
              "      <td>NaN</td>\n",
              "      <td>S</td>\n",
              "      <td>0</td>\n",
              "    </tr>\n",
              "  </tbody>\n",
              "</table>\n",
              "</div>"
            ],
            "text/plain": [
              "   PassengerId  Survived  Pclass  ... Cabin Embarked  NanAge\n",
              "0            1         0       3  ...   NaN        S       0\n",
              "1            2         1       1  ...   C85        C       0\n",
              "2            3         1       3  ...   NaN        S       0\n",
              "3            4         1       1  ...  C123        S       0\n",
              "4            5         0       3  ...   NaN        S       0\n",
              "\n",
              "[5 rows x 13 columns]"
            ]
          },
          "metadata": {
            "tags": []
          },
          "execution_count": 211
        }
      ]
    },
    {
      "cell_type": "markdown",
      "metadata": {
        "id": "At3bn7ibl4CQ"
      },
      "source": [
        "### Cabin"
      ]
    },
    {
      "cell_type": "markdown",
      "metadata": {
        "id": "DavIQNEpkfjE"
      },
      "source": [
        "Since most values in our dataset have `NaN` for the `Cabin` column, we need to check if being 'NaN' is significant for survival rate, via a hypothesis test using the same null hypothesis as the test for `Age`."
      ]
    },
    {
      "cell_type": "code",
      "metadata": {
        "colab": {
          "base_uri": "https://localhost:8080/"
        },
        "id": "eLGqdlFplhps",
        "outputId": "bc24afdc-83fb-4c45-9b07-ef6a0aea3ae5"
      },
      "source": [
        "significance = 0.05\n",
        "sample_success_a, sample_size_a = (410, 500)\n",
        "sample_success_b, sample_size_b = (379, 400)\n",
        "successes = np.array([train[train['Cabin'].isna() & train['Survived'] == 1].shape[0], \n",
        "                      train[train['Cabin'].notna() & train['Survived'] == 1].shape[0]])\n",
        "samples = np.array([train[train['Cabin'].isna()].shape[0], \n",
        "                    train[train['Cabin'].notna()].shape[0]])\n",
        "stat, p_value = proportions_ztest(count=successes, nobs=samples,  alternative='two-sided')\n",
        "# report\n",
        "print(f'Proportion of Null Survivors = {successes[0]/samples[0]:.3f}')\n",
        "print(f'Proportion of Not Null Survivors = {successes[1]/samples[1]:.3f}')\n",
        "\n",
        "print('z_stat: %0.5f, p_value: %0.3f' % (stat, p_value))\n",
        "if p_value > significance:\n",
        "   print (\"Fail to reject the null hypothesis - we have nothing else to say\")\n",
        "else:\n",
        "   print (\"Reject the null hypothesis - suggest the alternative hypothesis is true\")"
      ],
      "execution_count": 212,
      "outputs": [
        {
          "output_type": "stream",
          "text": [
            "Proportion of Null Survivors = 0.300\n",
            "Proportion of Not Null Survivors = 0.667\n",
            "z_stat: -9.45969, p_value: 0.000\n",
            "Reject the null hypothesis - suggest the alternative hypothesis is true\n"
          ],
          "name": "stdout"
        }
      ]
    },
    {
      "cell_type": "markdown",
      "metadata": {
        "id": "QuE_fN9KnMuK"
      },
      "source": [
        "So there is a significance in a cabin class being NaN, so lets assign these `NaN` values to a new value. The first step is to strip the numbers from the existing cabins"
      ]
    },
    {
      "cell_type": "code",
      "metadata": {
        "id": "Dpevf7PsmF1I"
      },
      "source": [
        "train['Cabin'] = [re.sub(r'[0-9]*','', str(x)) for x in train['Cabin']]"
      ],
      "execution_count": 213,
      "outputs": []
    },
    {
      "cell_type": "markdown",
      "metadata": {
        "id": "SWnl4CbHqUTk"
      },
      "source": [
        "And now we can print the unique cabin classes."
      ]
    },
    {
      "cell_type": "code",
      "metadata": {
        "colab": {
          "base_uri": "https://localhost:8080/"
        },
        "id": "x5ryZBuqqS5w",
        "outputId": "165e1f3f-0423-404e-8ce8-2021b6c3ef62"
      },
      "source": [
        "train['Cabin'].value_counts()"
      ],
      "execution_count": 214,
      "outputs": [
        {
          "output_type": "execute_result",
          "data": {
            "text/plain": [
              "nan        687\n",
              "C           51\n",
              "B           36\n",
              "E           32\n",
              "D           32\n",
              "A           15\n",
              "F            9\n",
              "B B          7\n",
              "G            4\n",
              "C C          4\n",
              "C C C        4\n",
              "F G          3\n",
              "B B B B      2\n",
              "B B B        2\n",
              "D D          1\n",
              "F E          1\n",
              "T            1\n",
              "Name: Cabin, dtype: int64"
            ]
          },
          "metadata": {
            "tags": []
          },
          "execution_count": 214
        }
      ]
    },
    {
      "cell_type": "markdown",
      "metadata": {
        "id": "u1wV3X9-sqTh"
      },
      "source": [
        "With the wide distribution of counts present for the classes, the imbalance towards most data points having `NaN`, and the significant difference in survivability rates, the best way to handle the `Cabin` column seems to be just to change it to a binary value of `0` for `NaN` and 1 for valid values. "
      ]
    },
    {
      "cell_type": "code",
      "metadata": {
        "colab": {
          "base_uri": "https://localhost:8080/"
        },
        "id": "swcib3I7si7g",
        "outputId": "0e29e822-00c4-4aa9-b956-d544d5ef15fa"
      },
      "source": [
        "train['Cabin'] = np.where(train['Cabin'] == 'nan', 0,1)\n",
        "train['Cabin'].value_counts()"
      ],
      "execution_count": 215,
      "outputs": [
        {
          "output_type": "execute_result",
          "data": {
            "text/plain": [
              "0    687\n",
              "1    204\n",
              "Name: Cabin, dtype: int64"
            ]
          },
          "metadata": {
            "tags": []
          },
          "execution_count": 215
        }
      ]
    },
    {
      "cell_type": "markdown",
      "metadata": {
        "id": "yATY2HQiyrqC"
      },
      "source": [
        "### Embarked\n",
        "Since embarked only has 2 `NaN` values, we will just drop the values and not do anything more."
      ]
    },
    {
      "cell_type": "code",
      "metadata": {
        "id": "tEnhVnQgrsdo"
      },
      "source": [
        "train = train[train['Embarked'].notna()]"
      ],
      "execution_count": 216,
      "outputs": []
    },
    {
      "cell_type": "markdown",
      "metadata": {
        "id": "sHNMZ2T20-ny"
      },
      "source": [
        "## Other Features\n",
        "### Fare\n",
        "Fare is the total cost of the ticket. However, we should take this down to a \"Fare per Person\" instead of just a fair"
      ]
    },
    {
      "cell_type": "code",
      "metadata": {
        "colab": {
          "base_uri": "https://localhost:8080/",
          "height": 254
        },
        "id": "1wB53FmU97XW",
        "outputId": "6e1e73f4-cce1-40e2-e617-98154ea48761"
      },
      "source": [
        "train['FPP'] = train['Fare'] / (1 + train['SibSp'] + train['Parch'])\n",
        "train.head()"
      ],
      "execution_count": 217,
      "outputs": [
        {
          "output_type": "execute_result",
          "data": {
            "text/html": [
              "<div>\n",
              "<style scoped>\n",
              "    .dataframe tbody tr th:only-of-type {\n",
              "        vertical-align: middle;\n",
              "    }\n",
              "\n",
              "    .dataframe tbody tr th {\n",
              "        vertical-align: top;\n",
              "    }\n",
              "\n",
              "    .dataframe thead th {\n",
              "        text-align: right;\n",
              "    }\n",
              "</style>\n",
              "<table border=\"1\" class=\"dataframe\">\n",
              "  <thead>\n",
              "    <tr style=\"text-align: right;\">\n",
              "      <th></th>\n",
              "      <th>PassengerId</th>\n",
              "      <th>Survived</th>\n",
              "      <th>Pclass</th>\n",
              "      <th>Name</th>\n",
              "      <th>Sex</th>\n",
              "      <th>Age</th>\n",
              "      <th>SibSp</th>\n",
              "      <th>Parch</th>\n",
              "      <th>Ticket</th>\n",
              "      <th>Fare</th>\n",
              "      <th>Cabin</th>\n",
              "      <th>Embarked</th>\n",
              "      <th>NanAge</th>\n",
              "      <th>FPP</th>\n",
              "    </tr>\n",
              "  </thead>\n",
              "  <tbody>\n",
              "    <tr>\n",
              "      <th>0</th>\n",
              "      <td>1</td>\n",
              "      <td>0</td>\n",
              "      <td>3</td>\n",
              "      <td>Braund, Mr. Owen Harris</td>\n",
              "      <td>male</td>\n",
              "      <td>22.0</td>\n",
              "      <td>1</td>\n",
              "      <td>0</td>\n",
              "      <td>A/5 21171</td>\n",
              "      <td>7.2500</td>\n",
              "      <td>0</td>\n",
              "      <td>S</td>\n",
              "      <td>0</td>\n",
              "      <td>3.62500</td>\n",
              "    </tr>\n",
              "    <tr>\n",
              "      <th>1</th>\n",
              "      <td>2</td>\n",
              "      <td>1</td>\n",
              "      <td>1</td>\n",
              "      <td>Cumings, Mrs. John Bradley (Florence Briggs Th...</td>\n",
              "      <td>female</td>\n",
              "      <td>38.0</td>\n",
              "      <td>1</td>\n",
              "      <td>0</td>\n",
              "      <td>PC 17599</td>\n",
              "      <td>71.2833</td>\n",
              "      <td>1</td>\n",
              "      <td>C</td>\n",
              "      <td>0</td>\n",
              "      <td>35.64165</td>\n",
              "    </tr>\n",
              "    <tr>\n",
              "      <th>2</th>\n",
              "      <td>3</td>\n",
              "      <td>1</td>\n",
              "      <td>3</td>\n",
              "      <td>Heikkinen, Miss. Laina</td>\n",
              "      <td>female</td>\n",
              "      <td>26.0</td>\n",
              "      <td>0</td>\n",
              "      <td>0</td>\n",
              "      <td>STON/O2. 3101282</td>\n",
              "      <td>7.9250</td>\n",
              "      <td>0</td>\n",
              "      <td>S</td>\n",
              "      <td>0</td>\n",
              "      <td>7.92500</td>\n",
              "    </tr>\n",
              "    <tr>\n",
              "      <th>3</th>\n",
              "      <td>4</td>\n",
              "      <td>1</td>\n",
              "      <td>1</td>\n",
              "      <td>Futrelle, Mrs. Jacques Heath (Lily May Peel)</td>\n",
              "      <td>female</td>\n",
              "      <td>35.0</td>\n",
              "      <td>1</td>\n",
              "      <td>0</td>\n",
              "      <td>113803</td>\n",
              "      <td>53.1000</td>\n",
              "      <td>1</td>\n",
              "      <td>S</td>\n",
              "      <td>0</td>\n",
              "      <td>26.55000</td>\n",
              "    </tr>\n",
              "    <tr>\n",
              "      <th>4</th>\n",
              "      <td>5</td>\n",
              "      <td>0</td>\n",
              "      <td>3</td>\n",
              "      <td>Allen, Mr. William Henry</td>\n",
              "      <td>male</td>\n",
              "      <td>35.0</td>\n",
              "      <td>0</td>\n",
              "      <td>0</td>\n",
              "      <td>373450</td>\n",
              "      <td>8.0500</td>\n",
              "      <td>0</td>\n",
              "      <td>S</td>\n",
              "      <td>0</td>\n",
              "      <td>8.05000</td>\n",
              "    </tr>\n",
              "  </tbody>\n",
              "</table>\n",
              "</div>"
            ],
            "text/plain": [
              "   PassengerId  Survived  Pclass  ... Embarked NanAge       FPP\n",
              "0            1         0       3  ...        S      0   3.62500\n",
              "1            2         1       1  ...        C      0  35.64165\n",
              "2            3         1       3  ...        S      0   7.92500\n",
              "3            4         1       1  ...        S      0  26.55000\n",
              "4            5         0       3  ...        S      0   8.05000\n",
              "\n",
              "[5 rows x 14 columns]"
            ]
          },
          "metadata": {
            "tags": []
          },
          "execution_count": 217
        }
      ]
    },
    {
      "cell_type": "markdown",
      "metadata": {
        "id": "SdWZ8PS5_Y_q"
      },
      "source": [
        "Now lets see `FPP` compared to the survival rate and get some descriptive statistics on it as well."
      ]
    },
    {
      "cell_type": "code",
      "metadata": {
        "colab": {
          "base_uri": "https://localhost:8080/",
          "height": 282
        },
        "id": "er38rlZF_YHD",
        "outputId": "48f5b8d2-1418-472d-af47-bc20b2fce599"
      },
      "source": [
        "plt.scatter(train['FPP'], train['Survived'])"
      ],
      "execution_count": 218,
      "outputs": [
        {
          "output_type": "execute_result",
          "data": {
            "text/plain": [
              "<matplotlib.collections.PathCollection at 0x7fcec5441150>"
            ]
          },
          "metadata": {
            "tags": []
          },
          "execution_count": 218
        },
        {
          "output_type": "display_data",
          "data": {
            "image/png": "[encoded data removed]",
            "text/plain": [
              "<Figure size 432x288 with 1 Axes>"
            ]
          },
          "metadata": {
            "tags": [],
            "needs_background": "light"
          }
        }
      ]
    },
    {
      "cell_type": "code",
      "metadata": {
        "colab": {
          "base_uri": "https://localhost:8080/"
        },
        "id": "0yh4igwNARAw",
        "outputId": "f4b09e52-ecc2-47ce-da51-17cfac505317"
      },
      "source": [
        "print(train['FPP'].min())\n",
        "print(train['FPP'].max())\n",
        "print(train['FPP'].mean())"
      ],
      "execution_count": 219,
      "outputs": [
        {
          "output_type": "stream",
          "text": [
            "0.0\n",
            "512.3292\n",
            "19.781203852326865\n"
          ],
          "name": "stdout"
        }
      ]
    },
    {
      "cell_type": "markdown",
      "metadata": {
        "id": "aeyqphSDAzoh"
      },
      "source": [
        "Looking at the graph, there seems to be a slight skew where the higher FPP's are surviving more. "
      ]
    },
    {
      "cell_type": "markdown",
      "metadata": {
        "id": "Dei7lNomBKxL"
      },
      "source": [
        "### Pclass\n",
        "\n",
        "Lets first view all of the classes"
      ]
    },
    {
      "cell_type": "code",
      "metadata": {
        "colab": {
          "base_uri": "https://localhost:8080/"
        },
        "id": "2gEH0mtFBn9C",
        "outputId": "4341d2f6-26f3-4956-d913-2ccc2a0e00f1"
      },
      "source": [
        "train['Pclass'].value_counts()"
      ],
      "execution_count": 220,
      "outputs": [
        {
          "output_type": "execute_result",
          "data": {
            "text/plain": [
              "3    491\n",
              "1    214\n",
              "2    184\n",
              "Name: Pclass, dtype: int64"
            ]
          },
          "metadata": {
            "tags": []
          },
          "execution_count": 220
        }
      ]
    },
    {
      "cell_type": "markdown",
      "metadata": {
        "id": "dVT2nb3mB7X_"
      },
      "source": [
        "Now lets view the classes based on who survived"
      ]
    },
    {
      "cell_type": "code",
      "metadata": {
        "colab": {
          "base_uri": "https://localhost:8080/"
        },
        "id": "DZG-yEa8Bv6V",
        "outputId": "69d4c26b-6930-419d-cf23-9ca83f85bd2b"
      },
      "source": [
        "train[train['Survived'] == 1]['Pclass'].value_counts()"
      ],
      "execution_count": 221,
      "outputs": [
        {
          "output_type": "execute_result",
          "data": {
            "text/plain": [
              "1    134\n",
              "3    119\n",
              "2     87\n",
              "Name: Pclass, dtype: int64"
            ]
          },
          "metadata": {
            "tags": []
          },
          "execution_count": 221
        }
      ]
    },
    {
      "cell_type": "markdown",
      "metadata": {
        "id": "xM3Si6abB8Fz"
      },
      "source": [
        "And lets view all the ratios"
      ]
    },
    {
      "cell_type": "code",
      "metadata": {
        "colab": {
          "base_uri": "https://localhost:8080/"
        },
        "id": "V-_oTtQhB9a5",
        "outputId": "18b391a8-1fd2-41d3-a119-ae20ba9e72f9"
      },
      "source": [
        "train[train['Survived'] == 1]['Pclass'].value_counts() / train['Pclass'].value_counts()"
      ],
      "execution_count": 222,
      "outputs": [
        {
          "output_type": "execute_result",
          "data": {
            "text/plain": [
              "1    0.626168\n",
              "2    0.472826\n",
              "3    0.242363\n",
              "Name: Pclass, dtype: float64"
            ]
          },
          "metadata": {
            "tags": []
          },
          "execution_count": 222
        }
      ]
    },
    {
      "cell_type": "markdown",
      "metadata": {
        "id": "ycMp1OfiChj9"
      },
      "source": [
        "Its apparent that the higher class you are in, the more likely chance you have for survival. "
      ]
    },
    {
      "cell_type": "markdown",
      "metadata": {
        "id": "NVGGKUrVBNHa"
      },
      "source": [
        "### Sex\n",
        "Lets repeat the same steps we did for `Pclass`"
      ]
    },
    {
      "cell_type": "code",
      "metadata": {
        "colab": {
          "base_uri": "https://localhost:8080/"
        },
        "id": "aMXU6pGJDAfJ",
        "outputId": "617900d4-fae8-462c-f2c8-a44f0154e6b9"
      },
      "source": [
        "train[train['Survived'] == 1]['Sex'].value_counts()"
      ],
      "execution_count": 223,
      "outputs": [
        {
          "output_type": "execute_result",
          "data": {
            "text/plain": [
              "female    231\n",
              "male      109\n",
              "Name: Sex, dtype: int64"
            ]
          },
          "metadata": {
            "tags": []
          },
          "execution_count": 223
        }
      ]
    },
    {
      "cell_type": "code",
      "metadata": {
        "colab": {
          "base_uri": "https://localhost:8080/"
        },
        "id": "8mzDy6JoDcsA",
        "outputId": "88cd6eab-e3e1-4010-d098-1e516a03de6e"
      },
      "source": [
        "train['Sex'].value_counts()"
      ],
      "execution_count": 224,
      "outputs": [
        {
          "output_type": "execute_result",
          "data": {
            "text/plain": [
              "male      577\n",
              "female    312\n",
              "Name: Sex, dtype: int64"
            ]
          },
          "metadata": {
            "tags": []
          },
          "execution_count": 224
        }
      ]
    },
    {
      "cell_type": "code",
      "metadata": {
        "colab": {
          "base_uri": "https://localhost:8080/"
        },
        "id": "IOgj0_H0DiP7",
        "outputId": "1b3ca4eb-e59c-4bc5-ccfb-5b433cff44ae"
      },
      "source": [
        "train[train['Survived'] == 1]['Sex'].value_counts() / train['Sex'].value_counts()"
      ],
      "execution_count": 225,
      "outputs": [
        {
          "output_type": "execute_result",
          "data": {
            "text/plain": [
              "female    0.740385\n",
              "male      0.188908\n",
              "Name: Sex, dtype: float64"
            ]
          },
          "metadata": {
            "tags": []
          },
          "execution_count": 225
        }
      ]
    },
    {
      "cell_type": "markdown",
      "metadata": {
        "id": "Jv93OUSgDuNs"
      },
      "source": [
        "Yup `Sex` is definitely significant. \n",
        "\n",
        "We will take one more step here and translate our categories to numbers, to make it easier for us to perform machine learning later.\n"
      ]
    },
    {
      "cell_type": "code",
      "metadata": {
        "colab": {
          "base_uri": "https://localhost:8080/",
          "height": 0
        },
        "id": "H4jsbuDZETp3",
        "outputId": "ed889b3b-92a0-4b3b-f9ea-77255653ce71"
      },
      "source": [
        "train['Sex'] = np.where(train['Sex'] == 'male', 1, 0)\n",
        "train.head()"
      ],
      "execution_count": 226,
      "outputs": [
        {
          "output_type": "execute_result",
          "data": {
            "text/html": [
              "<div>\n",
              "<style scoped>\n",
              "    .dataframe tbody tr th:only-of-type {\n",
              "        vertical-align: middle;\n",
              "    }\n",
              "\n",
              "    .dataframe tbody tr th {\n",
              "        vertical-align: top;\n",
              "    }\n",
              "\n",
              "    .dataframe thead th {\n",
              "        text-align: right;\n",
              "    }\n",
              "</style>\n",
              "<table border=\"1\" class=\"dataframe\">\n",
              "  <thead>\n",
              "    <tr style=\"text-align: right;\">\n",
              "      <th></th>\n",
              "      <th>PassengerId</th>\n",
              "      <th>Survived</th>\n",
              "      <th>Pclass</th>\n",
              "      <th>Name</th>\n",
              "      <th>Sex</th>\n",
              "      <th>Age</th>\n",
              "      <th>SibSp</th>\n",
              "      <th>Parch</th>\n",
              "      <th>Ticket</th>\n",
              "      <th>Fare</th>\n",
              "      <th>Cabin</th>\n",
              "      <th>Embarked</th>\n",
              "      <th>NanAge</th>\n",
              "      <th>FPP</th>\n",
              "    </tr>\n",
              "  </thead>\n",
              "  <tbody>\n",
              "    <tr>\n",
              "      <th>0</th>\n",
              "      <td>1</td>\n",
              "      <td>0</td>\n",
              "      <td>3</td>\n",
              "      <td>Braund, Mr. Owen Harris</td>\n",
              "      <td>1</td>\n",
              "      <td>22.0</td>\n",
              "      <td>1</td>\n",
              "      <td>0</td>\n",
              "      <td>A/5 21171</td>\n",
              "      <td>7.2500</td>\n",
              "      <td>0</td>\n",
              "      <td>S</td>\n",
              "      <td>0</td>\n",
              "      <td>3.62500</td>\n",
              "    </tr>\n",
              "    <tr>\n",
              "      <th>1</th>\n",
              "      <td>2</td>\n",
              "      <td>1</td>\n",
              "      <td>1</td>\n",
              "      <td>Cumings, Mrs. John Bradley (Florence Briggs Th...</td>\n",
              "      <td>0</td>\n",
              "      <td>38.0</td>\n",
              "      <td>1</td>\n",
              "      <td>0</td>\n",
              "      <td>PC 17599</td>\n",
              "      <td>71.2833</td>\n",
              "      <td>1</td>\n",
              "      <td>C</td>\n",
              "      <td>0</td>\n",
              "      <td>35.64165</td>\n",
              "    </tr>\n",
              "    <tr>\n",
              "      <th>2</th>\n",
              "      <td>3</td>\n",
              "      <td>1</td>\n",
              "      <td>3</td>\n",
              "      <td>Heikkinen, Miss. Laina</td>\n",
              "      <td>0</td>\n",
              "      <td>26.0</td>\n",
              "      <td>0</td>\n",
              "      <td>0</td>\n",
              "      <td>STON/O2. 3101282</td>\n",
              "      <td>7.9250</td>\n",
              "      <td>0</td>\n",
              "      <td>S</td>\n",
              "      <td>0</td>\n",
              "      <td>7.92500</td>\n",
              "    </tr>\n",
              "    <tr>\n",
              "      <th>3</th>\n",
              "      <td>4</td>\n",
              "      <td>1</td>\n",
              "      <td>1</td>\n",
              "      <td>Futrelle, Mrs. Jacques Heath (Lily May Peel)</td>\n",
              "      <td>0</td>\n",
              "      <td>35.0</td>\n",
              "      <td>1</td>\n",
              "      <td>0</td>\n",
              "      <td>113803</td>\n",
              "      <td>53.1000</td>\n",
              "      <td>1</td>\n",
              "      <td>S</td>\n",
              "      <td>0</td>\n",
              "      <td>26.55000</td>\n",
              "    </tr>\n",
              "    <tr>\n",
              "      <th>4</th>\n",
              "      <td>5</td>\n",
              "      <td>0</td>\n",
              "      <td>3</td>\n",
              "      <td>Allen, Mr. William Henry</td>\n",
              "      <td>1</td>\n",
              "      <td>35.0</td>\n",
              "      <td>0</td>\n",
              "      <td>0</td>\n",
              "      <td>373450</td>\n",
              "      <td>8.0500</td>\n",
              "      <td>0</td>\n",
              "      <td>S</td>\n",
              "      <td>0</td>\n",
              "      <td>8.05000</td>\n",
              "    </tr>\n",
              "  </tbody>\n",
              "</table>\n",
              "</div>"
            ],
            "text/plain": [
              "   PassengerId  Survived  Pclass  ... Embarked  NanAge       FPP\n",
              "0            1         0       3  ...        S       0   3.62500\n",
              "1            2         1       1  ...        C       0  35.64165\n",
              "2            3         1       3  ...        S       0   7.92500\n",
              "3            4         1       1  ...        S       0  26.55000\n",
              "4            5         0       3  ...        S       0   8.05000\n",
              "\n",
              "[5 rows x 14 columns]"
            ]
          },
          "metadata": {
            "tags": []
          },
          "execution_count": 226
        }
      ]
    },
    {
      "cell_type": "markdown",
      "metadata": {
        "id": "FusaMvXqGfOO"
      },
      "source": [
        "### SibSp and Parch\n",
        "Lets first take the max of both of these columns"
      ]
    },
    {
      "cell_type": "code",
      "metadata": {
        "colab": {
          "base_uri": "https://localhost:8080/"
        },
        "id": "-ZwXNafRGplq",
        "outputId": "bcc96fa4-58f2-4ed6-f114-d76de3a07a55"
      },
      "source": [
        "print(train['SibSp'].max())\n",
        "print(train['Parch'].max())"
      ],
      "execution_count": 227,
      "outputs": [
        {
          "output_type": "stream",
          "text": [
            "8\n",
            "6\n"
          ],
          "name": "stdout"
        }
      ]
    },
    {
      "cell_type": "markdown",
      "metadata": {
        "id": "n86bbWI5G-6u"
      },
      "source": [
        "Next lets graph them on a scatter plot"
      ]
    },
    {
      "cell_type": "code",
      "metadata": {
        "colab": {
          "base_uri": "https://localhost:8080/",
          "height": 0
        },
        "id": "FJLjDPjrG-I7",
        "outputId": "c8a80793-1fa2-4281-f059-b5c8736a16ae"
      },
      "source": [
        "plt.scatter(train['SibSp'], train['Survived']);"
      ],
      "execution_count": 228,
      "outputs": [
        {
          "output_type": "display_data",
          "data": {
            "image/png": "[encoded data removed]",
            "text/plain": [
              "<Figure size 432x288 with 1 Axes>"
            ]
          },
          "metadata": {
            "tags": [],
            "needs_background": "light"
          }
        }
      ]
    },
    {
      "cell_type": "code",
      "metadata": {
        "colab": {
          "base_uri": "https://localhost:8080/",
          "height": 0
        },
        "id": "oTXp8cjAHSNu",
        "outputId": "4ae78d3e-da9a-49b2-a5dc-63487ba1afce"
      },
      "source": [
        "plt.scatter(train['Parch'], train['Survived']);"
      ],
      "execution_count": 229,
      "outputs": [
        {
          "output_type": "display_data",
          "data": {
            "image/png": "[encoded data removed]",
            "text/plain": [
              "<Figure size 432x288 with 1 Axes>"
            ]
          },
          "metadata": {
            "tags": [],
            "needs_background": "light"
          }
        }
      ]
    },
    {
      "cell_type": "markdown",
      "metadata": {
        "id": "xr60hlfDJ86O"
      },
      "source": [
        "Its hard to tell if theres a trend in these graph, but we can kind of see that the more people with you, the less likely your chance of survival. "
      ]
    },
    {
      "cell_type": "markdown",
      "metadata": {
        "id": "NIJGuKRkG7pT"
      },
      "source": [
        "### Embarked\n",
        "Lets first see how many unique values are present."
      ]
    },
    {
      "cell_type": "code",
      "metadata": {
        "colab": {
          "base_uri": "https://localhost:8080/"
        },
        "id": "qB9PBAeNLUmN",
        "outputId": "f2d3589c-95f0-49d3-ca99-6c58c97076c4"
      },
      "source": [
        "train['Embarked'].value_counts()"
      ],
      "execution_count": 230,
      "outputs": [
        {
          "output_type": "execute_result",
          "data": {
            "text/plain": [
              "S    644\n",
              "C    168\n",
              "Q     77\n",
              "Name: Embarked, dtype: int64"
            ]
          },
          "metadata": {
            "tags": []
          },
          "execution_count": 230
        }
      ]
    },
    {
      "cell_type": "markdown",
      "metadata": {
        "id": "Qf2r4FmSLfkr"
      },
      "source": [
        "It seems like there are 3 classes, so we can repeat the steps done for `Classes`"
      ]
    },
    {
      "cell_type": "code",
      "metadata": {
        "colab": {
          "base_uri": "https://localhost:8080/"
        },
        "id": "Hhf6hjLhLdQm",
        "outputId": "ba1d75e3-cffa-4929-a5d1-bebddd1907c4"
      },
      "source": [
        "train[train['Survived'] == 1]['Embarked'].value_counts()"
      ],
      "execution_count": 231,
      "outputs": [
        {
          "output_type": "execute_result",
          "data": {
            "text/plain": [
              "S    217\n",
              "C     93\n",
              "Q     30\n",
              "Name: Embarked, dtype: int64"
            ]
          },
          "metadata": {
            "tags": []
          },
          "execution_count": 231
        }
      ]
    },
    {
      "cell_type": "code",
      "metadata": {
        "colab": {
          "base_uri": "https://localhost:8080/"
        },
        "id": "4DauhhTGL-8a",
        "outputId": "418e59f4-e32a-4540-a55c-780d541988c0"
      },
      "source": [
        "train[train['Survived'] == 1]['Embarked'].value_counts() / train['Embarked'].value_counts()"
      ],
      "execution_count": 232,
      "outputs": [
        {
          "output_type": "execute_result",
          "data": {
            "text/plain": [
              "S    0.336957\n",
              "C    0.553571\n",
              "Q    0.389610\n",
              "Name: Embarked, dtype: float64"
            ]
          },
          "metadata": {
            "tags": []
          },
          "execution_count": 232
        }
      ]
    },
    {
      "cell_type": "markdown",
      "metadata": {
        "id": "4ijx-y7ANxLq"
      },
      "source": [
        "There seems to be a a relationship between the percent of people that survive and where they embarked and people who embarked on `C` seem to have a higher survival rate. \n",
        "\n",
        "Now we will turn these categories into numbers to standardize everything"
      ]
    },
    {
      "cell_type": "code",
      "metadata": {
        "colab": {
          "base_uri": "https://localhost:8080/",
          "height": 0
        },
        "id": "uBS5DH1vNZV9",
        "outputId": "89012bda-1042-4a38-f719-afcaf4dcf4fb"
      },
      "source": [
        "train['Embarked'] = train['Embarked'].replace(['S','Q','C'],[3,2,1])\n",
        "train.head()"
      ],
      "execution_count": 233,
      "outputs": [
        {
          "output_type": "execute_result",
          "data": {
            "text/html": [
              "<div>\n",
              "<style scoped>\n",
              "    .dataframe tbody tr th:only-of-type {\n",
              "        vertical-align: middle;\n",
              "    }\n",
              "\n",
              "    .dataframe tbody tr th {\n",
              "        vertical-align: top;\n",
              "    }\n",
              "\n",
              "    .dataframe thead th {\n",
              "        text-align: right;\n",
              "    }\n",
              "</style>\n",
              "<table border=\"1\" class=\"dataframe\">\n",
              "  <thead>\n",
              "    <tr style=\"text-align: right;\">\n",
              "      <th></th>\n",
              "      <th>PassengerId</th>\n",
              "      <th>Survived</th>\n",
              "      <th>Pclass</th>\n",
              "      <th>Name</th>\n",
              "      <th>Sex</th>\n",
              "      <th>Age</th>\n",
              "      <th>SibSp</th>\n",
              "      <th>Parch</th>\n",
              "      <th>Ticket</th>\n",
              "      <th>Fare</th>\n",
              "      <th>Cabin</th>\n",
              "      <th>Embarked</th>\n",
              "      <th>NanAge</th>\n",
              "      <th>FPP</th>\n",
              "    </tr>\n",
              "  </thead>\n",
              "  <tbody>\n",
              "    <tr>\n",
              "      <th>0</th>\n",
              "      <td>1</td>\n",
              "      <td>0</td>\n",
              "      <td>3</td>\n",
              "      <td>Braund, Mr. Owen Harris</td>\n",
              "      <td>1</td>\n",
              "      <td>22.0</td>\n",
              "      <td>1</td>\n",
              "      <td>0</td>\n",
              "      <td>A/5 21171</td>\n",
              "      <td>7.2500</td>\n",
              "      <td>0</td>\n",
              "      <td>3</td>\n",
              "      <td>0</td>\n",
              "      <td>3.62500</td>\n",
              "    </tr>\n",
              "    <tr>\n",
              "      <th>1</th>\n",
              "      <td>2</td>\n",
              "      <td>1</td>\n",
              "      <td>1</td>\n",
              "      <td>Cumings, Mrs. John Bradley (Florence Briggs Th...</td>\n",
              "      <td>0</td>\n",
              "      <td>38.0</td>\n",
              "      <td>1</td>\n",
              "      <td>0</td>\n",
              "      <td>PC 17599</td>\n",
              "      <td>71.2833</td>\n",
              "      <td>1</td>\n",
              "      <td>1</td>\n",
              "      <td>0</td>\n",
              "      <td>35.64165</td>\n",
              "    </tr>\n",
              "    <tr>\n",
              "      <th>2</th>\n",
              "      <td>3</td>\n",
              "      <td>1</td>\n",
              "      <td>3</td>\n",
              "      <td>Heikkinen, Miss. Laina</td>\n",
              "      <td>0</td>\n",
              "      <td>26.0</td>\n",
              "      <td>0</td>\n",
              "      <td>0</td>\n",
              "      <td>STON/O2. 3101282</td>\n",
              "      <td>7.9250</td>\n",
              "      <td>0</td>\n",
              "      <td>3</td>\n",
              "      <td>0</td>\n",
              "      <td>7.92500</td>\n",
              "    </tr>\n",
              "    <tr>\n",
              "      <th>3</th>\n",
              "      <td>4</td>\n",
              "      <td>1</td>\n",
              "      <td>1</td>\n",
              "      <td>Futrelle, Mrs. Jacques Heath (Lily May Peel)</td>\n",
              "      <td>0</td>\n",
              "      <td>35.0</td>\n",
              "      <td>1</td>\n",
              "      <td>0</td>\n",
              "      <td>113803</td>\n",
              "      <td>53.1000</td>\n",
              "      <td>1</td>\n",
              "      <td>3</td>\n",
              "      <td>0</td>\n",
              "      <td>26.55000</td>\n",
              "    </tr>\n",
              "    <tr>\n",
              "      <th>4</th>\n",
              "      <td>5</td>\n",
              "      <td>0</td>\n",
              "      <td>3</td>\n",
              "      <td>Allen, Mr. William Henry</td>\n",
              "      <td>1</td>\n",
              "      <td>35.0</td>\n",
              "      <td>0</td>\n",
              "      <td>0</td>\n",
              "      <td>373450</td>\n",
              "      <td>8.0500</td>\n",
              "      <td>0</td>\n",
              "      <td>3</td>\n",
              "      <td>0</td>\n",
              "      <td>8.05000</td>\n",
              "    </tr>\n",
              "  </tbody>\n",
              "</table>\n",
              "</div>"
            ],
            "text/plain": [
              "   PassengerId  Survived  Pclass  ... Embarked  NanAge       FPP\n",
              "0            1         0       3  ...        3       0   3.62500\n",
              "1            2         1       1  ...        1       0  35.64165\n",
              "2            3         1       3  ...        3       0   7.92500\n",
              "3            4         1       1  ...        3       0  26.55000\n",
              "4            5         0       3  ...        3       0   8.05000\n",
              "\n",
              "[5 rows x 14 columns]"
            ]
          },
          "metadata": {
            "tags": []
          },
          "execution_count": 233
        }
      ]
    },
    {
      "cell_type": "markdown",
      "metadata": {
        "id": "ThnpL8eEQw1-"
      },
      "source": [
        "### Unused Features\n",
        "Since we are not using `Ticket` and `Name`, we will go ahead and drop that from our data. We will also drop `Fare` since `FPP` is a better indicator for the cost of a ticket.\n"
      ]
    },
    {
      "cell_type": "code",
      "metadata": {
        "colab": {
          "base_uri": "https://localhost:8080/",
          "height": 0
        },
        "id": "ym3DjvPzQ8l4",
        "outputId": "a3c30bbc-e2e9-4b03-c977-97675d595662"
      },
      "source": [
        "train = train.drop(['Ticket', 'Name', 'Fare'], axis = 1)\n",
        "train.head()"
      ],
      "execution_count": 234,
      "outputs": [
        {
          "output_type": "execute_result",
          "data": {
            "text/html": [
              "<div>\n",
              "<style scoped>\n",
              "    .dataframe tbody tr th:only-of-type {\n",
              "        vertical-align: middle;\n",
              "    }\n",
              "\n",
              "    .dataframe tbody tr th {\n",
              "        vertical-align: top;\n",
              "    }\n",
              "\n",
              "    .dataframe thead th {\n",
              "        text-align: right;\n",
              "    }\n",
              "</style>\n",
              "<table border=\"1\" class=\"dataframe\">\n",
              "  <thead>\n",
              "    <tr style=\"text-align: right;\">\n",
              "      <th></th>\n",
              "      <th>PassengerId</th>\n",
              "      <th>Survived</th>\n",
              "      <th>Pclass</th>\n",
              "      <th>Sex</th>\n",
              "      <th>Age</th>\n",
              "      <th>SibSp</th>\n",
              "      <th>Parch</th>\n",
              "      <th>Cabin</th>\n",
              "      <th>Embarked</th>\n",
              "      <th>NanAge</th>\n",
              "      <th>FPP</th>\n",
              "    </tr>\n",
              "  </thead>\n",
              "  <tbody>\n",
              "    <tr>\n",
              "      <th>0</th>\n",
              "      <td>1</td>\n",
              "      <td>0</td>\n",
              "      <td>3</td>\n",
              "      <td>1</td>\n",
              "      <td>22.0</td>\n",
              "      <td>1</td>\n",
              "      <td>0</td>\n",
              "      <td>0</td>\n",
              "      <td>3</td>\n",
              "      <td>0</td>\n",
              "      <td>3.62500</td>\n",
              "    </tr>\n",
              "    <tr>\n",
              "      <th>1</th>\n",
              "      <td>2</td>\n",
              "      <td>1</td>\n",
              "      <td>1</td>\n",
              "      <td>0</td>\n",
              "      <td>38.0</td>\n",
              "      <td>1</td>\n",
              "      <td>0</td>\n",
              "      <td>1</td>\n",
              "      <td>1</td>\n",
              "      <td>0</td>\n",
              "      <td>35.64165</td>\n",
              "    </tr>\n",
              "    <tr>\n",
              "      <th>2</th>\n",
              "      <td>3</td>\n",
              "      <td>1</td>\n",
              "      <td>3</td>\n",
              "      <td>0</td>\n",
              "      <td>26.0</td>\n",
              "      <td>0</td>\n",
              "      <td>0</td>\n",
              "      <td>0</td>\n",
              "      <td>3</td>\n",
              "      <td>0</td>\n",
              "      <td>7.92500</td>\n",
              "    </tr>\n",
              "    <tr>\n",
              "      <th>3</th>\n",
              "      <td>4</td>\n",
              "      <td>1</td>\n",
              "      <td>1</td>\n",
              "      <td>0</td>\n",
              "      <td>35.0</td>\n",
              "      <td>1</td>\n",
              "      <td>0</td>\n",
              "      <td>1</td>\n",
              "      <td>3</td>\n",
              "      <td>0</td>\n",
              "      <td>26.55000</td>\n",
              "    </tr>\n",
              "    <tr>\n",
              "      <th>4</th>\n",
              "      <td>5</td>\n",
              "      <td>0</td>\n",
              "      <td>3</td>\n",
              "      <td>1</td>\n",
              "      <td>35.0</td>\n",
              "      <td>0</td>\n",
              "      <td>0</td>\n",
              "      <td>0</td>\n",
              "      <td>3</td>\n",
              "      <td>0</td>\n",
              "      <td>8.05000</td>\n",
              "    </tr>\n",
              "  </tbody>\n",
              "</table>\n",
              "</div>"
            ],
            "text/plain": [
              "   PassengerId  Survived  Pclass  Sex  ...  Cabin  Embarked  NanAge       FPP\n",
              "0            1         0       3    1  ...      0         3       0   3.62500\n",
              "1            2         1       1    0  ...      1         1       0  35.64165\n",
              "2            3         1       3    0  ...      0         3       0   7.92500\n",
              "3            4         1       1    0  ...      1         3       0  26.55000\n",
              "4            5         0       3    1  ...      0         3       0   8.05000\n",
              "\n",
              "[5 rows x 11 columns]"
            ]
          },
          "metadata": {
            "tags": []
          },
          "execution_count": 234
        }
      ]
    },
    {
      "cell_type": "markdown",
      "metadata": {
        "id": "HHexYLgQRJdK"
      },
      "source": [
        "## Splitting Data"
      ]
    },
    {
      "cell_type": "markdown",
      "metadata": {
        "id": "ufA34toDgV3G"
      },
      "source": [
        "Finally, we will randomly split the data from 'test.csv' into a training set and a validation set. The validation set will have 100 points, and the training set will have the other 789 points. This is to give us an idea of how accurate our solution is since our training set doesn't have truth."
      ]
    },
    {
      "cell_type": "code",
      "metadata": {
        "execution": {
          "iopub.status.busy": "2021-07-09T22:49:16.806328Z",
          "iopub.execute_input": "2021-07-09T22:49:16.806700Z",
          "iopub.status.idle": "2021-07-09T22:49:16.817295Z",
          "shell.execute_reply.started": "2021-07-09T22:49:16.806668Z",
          "shell.execute_reply": "2021-07-09T22:49:16.815904Z"
        },
        "trusted": true,
        "id": "ztFBAhYggV3G",
        "colab": {
          "base_uri": "https://localhost:8080/"
        },
        "outputId": "f3429b9c-bda2-4144-ac53-7f0da4ae1493"
      },
      "source": [
        "val = train.sample(n=100)\n",
        "train = train.drop(val.index)\n",
        "print(val.shape)\n",
        "print(train.shape)"
      ],
      "execution_count": 235,
      "outputs": [
        {
          "output_type": "stream",
          "text": [
            "(100, 11)\n",
            "(789, 11)\n"
          ],
          "name": "stdout"
        }
      ]
    },
    {
      "cell_type": "markdown",
      "metadata": {
        "id": "edog2BtrWw3C"
      },
      "source": [
        "## Prepping Testing Set\n",
        "Before we do any machine learning and prediction, we should modify the features in the testing set so it matches what we did in the training set"
      ]
    },
    {
      "cell_type": "code",
      "metadata": {
        "id": "J1n2HLSZXOid"
      },
      "source": [
        "test = pd.read_csv('test.csv')\n",
        "test['Embarked'].fillna(value = 'Q', inplace = True)\n",
        "test['Fare'].fillna(value = test['Fare'].mean(), inplace = True)\n",
        "test['Embarked'] = test['Embarked'].replace(['S','Q','C'],[3,2,1])\n",
        "test['Sex'] = np.where(test['Sex'] == 'male', 1, 0)\n",
        "test['FPP'] = test['Fare'] / (1 + test['SibSp'] + test['Parch'])\n",
        "test['Cabin'] = np.where(test['Cabin'].isna(), 0,1)\n",
        "test['NanAge'] = np.where(test['Age'].isna(), 1, 0)\n",
        "test['Age'].fillna(value = train['Age'].mean(), inplace = True)\n",
        "test = test.drop(['Ticket', 'Name', 'Fare'], axis = 1)"
      ],
      "execution_count": 254,
      "outputs": []
    },
    {
      "cell_type": "code",
      "metadata": {
        "colab": {
          "base_uri": "https://localhost:8080/",
          "height": 203
        },
        "id": "SGxZ0ZKfdGvG",
        "outputId": "2367c4a9-f310-4ea4-ca10-175b4873f5ce"
      },
      "source": [
        "test.head()"
      ],
      "execution_count": 255,
      "outputs": [
        {
          "output_type": "execute_result",
          "data": {
            "text/html": [
              "<div>\n",
              "<style scoped>\n",
              "    .dataframe tbody tr th:only-of-type {\n",
              "        vertical-align: middle;\n",
              "    }\n",
              "\n",
              "    .dataframe tbody tr th {\n",
              "        vertical-align: top;\n",
              "    }\n",
              "\n",
              "    .dataframe thead th {\n",
              "        text-align: right;\n",
              "    }\n",
              "</style>\n",
              "<table border=\"1\" class=\"dataframe\">\n",
              "  <thead>\n",
              "    <tr style=\"text-align: right;\">\n",
              "      <th></th>\n",
              "      <th>PassengerId</th>\n",
              "      <th>Pclass</th>\n",
              "      <th>Sex</th>\n",
              "      <th>Age</th>\n",
              "      <th>SibSp</th>\n",
              "      <th>Parch</th>\n",
              "      <th>Cabin</th>\n",
              "      <th>Embarked</th>\n",
              "      <th>FPP</th>\n",
              "      <th>NanAge</th>\n",
              "    </tr>\n",
              "  </thead>\n",
              "  <tbody>\n",
              "    <tr>\n",
              "      <th>0</th>\n",
              "      <td>892</td>\n",
              "      <td>3</td>\n",
              "      <td>1</td>\n",
              "      <td>34.5</td>\n",
              "      <td>0</td>\n",
              "      <td>0</td>\n",
              "      <td>0</td>\n",
              "      <td>2</td>\n",
              "      <td>7.829200</td>\n",
              "      <td>0</td>\n",
              "    </tr>\n",
              "    <tr>\n",
              "      <th>1</th>\n",
              "      <td>893</td>\n",
              "      <td>3</td>\n",
              "      <td>0</td>\n",
              "      <td>47.0</td>\n",
              "      <td>1</td>\n",
              "      <td>0</td>\n",
              "      <td>0</td>\n",
              "      <td>3</td>\n",
              "      <td>3.500000</td>\n",
              "      <td>0</td>\n",
              "    </tr>\n",
              "    <tr>\n",
              "      <th>2</th>\n",
              "      <td>894</td>\n",
              "      <td>2</td>\n",
              "      <td>1</td>\n",
              "      <td>62.0</td>\n",
              "      <td>0</td>\n",
              "      <td>0</td>\n",
              "      <td>0</td>\n",
              "      <td>2</td>\n",
              "      <td>9.687500</td>\n",
              "      <td>0</td>\n",
              "    </tr>\n",
              "    <tr>\n",
              "      <th>3</th>\n",
              "      <td>895</td>\n",
              "      <td>3</td>\n",
              "      <td>1</td>\n",
              "      <td>27.0</td>\n",
              "      <td>0</td>\n",
              "      <td>0</td>\n",
              "      <td>0</td>\n",
              "      <td>3</td>\n",
              "      <td>8.662500</td>\n",
              "      <td>0</td>\n",
              "    </tr>\n",
              "    <tr>\n",
              "      <th>4</th>\n",
              "      <td>896</td>\n",
              "      <td>3</td>\n",
              "      <td>0</td>\n",
              "      <td>22.0</td>\n",
              "      <td>1</td>\n",
              "      <td>1</td>\n",
              "      <td>0</td>\n",
              "      <td>3</td>\n",
              "      <td>4.095833</td>\n",
              "      <td>0</td>\n",
              "    </tr>\n",
              "  </tbody>\n",
              "</table>\n",
              "</div>"
            ],
            "text/plain": [
              "   PassengerId  Pclass  Sex   Age  ...  Cabin  Embarked       FPP  NanAge\n",
              "0          892       3    1  34.5  ...      0         2  7.829200       0\n",
              "1          893       3    0  47.0  ...      0         3  3.500000       0\n",
              "2          894       2    1  62.0  ...      0         2  9.687500       0\n",
              "3          895       3    1  27.0  ...      0         3  8.662500       0\n",
              "4          896       3    0  22.0  ...      0         3  4.095833       0\n",
              "\n",
              "[5 rows x 10 columns]"
            ]
          },
          "metadata": {
            "tags": []
          },
          "execution_count": 255
        }
      ]
    },
    {
      "cell_type": "markdown",
      "metadata": {
        "id": "nmHErl7-Rrl9"
      },
      "source": [
        "# Machine Learning\n",
        "This next section will be our machine learning section. In this section we will be actually predicting our classes. Our approach will be an ensemble approach where we will use a few different methods:\n",
        "\n",
        "*   **Random Forest Classifier (using everything)-** A random forest is good for this problem since we have  discrete numerical, continous numerical, and categorical data, and this is the easiest way to detect trends that may be present in all types of data that are not covered by the other two methods. \n",
        "*   **Naive-Bayes (using `Sex`, `Cabin`, and `NanAge`)-** In previous sections, we proved that the different classes in each of these features have statistically different proportions of surviving. We can leverage this statistical proportion difference using Naive-Bayes.\n",
        "*   **Logistic Classification (using `Age` and `FPP`)-** Logistic classification is probably our best way to leverage our continuous data features. \n",
        "\n",
        "After creating predictions for all of this, we will the take the weighted sum using the precision scores for each of the classes\n",
        "## Random Forest\n",
        "\n",
        "We will be using `sklearn.ensemble.RandomForestClassifier` and will be predicting on all the features. \n",
        "\n"
      ]
    },
    {
      "cell_type": "code",
      "metadata": {
        "colab": {
          "base_uri": "https://localhost:8080/",
          "height": 203
        },
        "id": "JoRG3VuXRqqq",
        "outputId": "497b4c86-df91-468b-cfc4-996792cc4003"
      },
      "source": [
        "features = ['Pclass', 'Sex', 'Age', 'SibSp', 'Parch','Cabin', 'Embarked','FPP', 'NanAge']\n",
        "y_train = train['Survived']\n",
        "rf = RandomForestClassifier(n_estimators=15)\n",
        "rf.fit(train[features], y_train);\n",
        "train['Prediction_RF'] = rf.predict(train[features])\n",
        "val['Prediction_RF']  = rf.predict(val[features])\n",
        "val.head()"
      ],
      "execution_count": 238,
      "outputs": [
        {
          "output_type": "execute_result",
          "data": {
            "text/html": [
              "<div>\n",
              "<style scoped>\n",
              "    .dataframe tbody tr th:only-of-type {\n",
              "        vertical-align: middle;\n",
              "    }\n",
              "\n",
              "    .dataframe tbody tr th {\n",
              "        vertical-align: top;\n",
              "    }\n",
              "\n",
              "    .dataframe thead th {\n",
              "        text-align: right;\n",
              "    }\n",
              "</style>\n",
              "<table border=\"1\" class=\"dataframe\">\n",
              "  <thead>\n",
              "    <tr style=\"text-align: right;\">\n",
              "      <th></th>\n",
              "      <th>PassengerId</th>\n",
              "      <th>Survived</th>\n",
              "      <th>Pclass</th>\n",
              "      <th>Sex</th>\n",
              "      <th>Age</th>\n",
              "      <th>SibSp</th>\n",
              "      <th>Parch</th>\n",
              "      <th>Cabin</th>\n",
              "      <th>Embarked</th>\n",
              "      <th>NanAge</th>\n",
              "      <th>FPP</th>\n",
              "      <th>Prediction_RF</th>\n",
              "    </tr>\n",
              "  </thead>\n",
              "  <tbody>\n",
              "    <tr>\n",
              "      <th>678</th>\n",
              "      <td>679</td>\n",
              "      <td>0</td>\n",
              "      <td>3</td>\n",
              "      <td>0</td>\n",
              "      <td>43.000000</td>\n",
              "      <td>1</td>\n",
              "      <td>6</td>\n",
              "      <td>0</td>\n",
              "      <td>3</td>\n",
              "      <td>0</td>\n",
              "      <td>5.86250</td>\n",
              "      <td>0</td>\n",
              "    </tr>\n",
              "    <tr>\n",
              "      <th>655</th>\n",
              "      <td>656</td>\n",
              "      <td>0</td>\n",
              "      <td>2</td>\n",
              "      <td>1</td>\n",
              "      <td>24.000000</td>\n",
              "      <td>2</td>\n",
              "      <td>0</td>\n",
              "      <td>0</td>\n",
              "      <td>3</td>\n",
              "      <td>0</td>\n",
              "      <td>24.50000</td>\n",
              "      <td>0</td>\n",
              "    </tr>\n",
              "    <tr>\n",
              "      <th>451</th>\n",
              "      <td>452</td>\n",
              "      <td>0</td>\n",
              "      <td>3</td>\n",
              "      <td>1</td>\n",
              "      <td>29.699118</td>\n",
              "      <td>1</td>\n",
              "      <td>0</td>\n",
              "      <td>0</td>\n",
              "      <td>3</td>\n",
              "      <td>1</td>\n",
              "      <td>9.98335</td>\n",
              "      <td>0</td>\n",
              "    </tr>\n",
              "    <tr>\n",
              "      <th>862</th>\n",
              "      <td>863</td>\n",
              "      <td>1</td>\n",
              "      <td>1</td>\n",
              "      <td>0</td>\n",
              "      <td>48.000000</td>\n",
              "      <td>0</td>\n",
              "      <td>0</td>\n",
              "      <td>1</td>\n",
              "      <td>3</td>\n",
              "      <td>0</td>\n",
              "      <td>25.92920</td>\n",
              "      <td>1</td>\n",
              "    </tr>\n",
              "    <tr>\n",
              "      <th>12</th>\n",
              "      <td>13</td>\n",
              "      <td>0</td>\n",
              "      <td>3</td>\n",
              "      <td>1</td>\n",
              "      <td>20.000000</td>\n",
              "      <td>0</td>\n",
              "      <td>0</td>\n",
              "      <td>0</td>\n",
              "      <td>3</td>\n",
              "      <td>0</td>\n",
              "      <td>8.05000</td>\n",
              "      <td>0</td>\n",
              "    </tr>\n",
              "  </tbody>\n",
              "</table>\n",
              "</div>"
            ],
            "text/plain": [
              "     PassengerId  Survived  Pclass  ...  NanAge       FPP  Prediction_RF\n",
              "678          679         0       3  ...       0   5.86250              0\n",
              "655          656         0       2  ...       0  24.50000              0\n",
              "451          452         0       3  ...       1   9.98335              0\n",
              "862          863         1       1  ...       0  25.92920              1\n",
              "12            13         0       3  ...       0   8.05000              0\n",
              "\n",
              "[5 rows x 12 columns]"
            ]
          },
          "metadata": {
            "tags": []
          },
          "execution_count": 238
        }
      ]
    },
    {
      "cell_type": "markdown",
      "metadata": {
        "id": "5kqnFyGGClqd"
      },
      "source": [
        "Now that we have our prediction, we need to check the accuracy of our solution, as well as notice any behaviors regarding the classification. To do this, we will be using `sklearn.metrics.classification_report` and `sklearn.metrics.accuracy_score`.\n",
        "\n",
        "First lets get these metrics for our training data"
      ]
    },
    {
      "cell_type": "code",
      "metadata": {
        "colab": {
          "base_uri": "https://localhost:8080/"
        },
        "id": "vv6vcnXiCk-7",
        "outputId": "8bd97345-82d2-42ce-db65-9254e4a9cf6d"
      },
      "source": [
        "test_RF_classification_report = classification_report(train['Survived'], train['Prediction_RF'], output_dict= True)\n",
        "val_RF_classification_report = classification_report(val['Survived'], val['Prediction_RF'], output_dict= True)\n",
        "print('Test Classification Report')\n",
        "print(test_RF_classification_report)\n",
        "print('Validation Classification Report')\n",
        "print(val_RF_classification_report)\n",
        "print(val_RF_classification_report['accuracy'])"
      ],
      "execution_count": 239,
      "outputs": [
        {
          "output_type": "stream",
          "text": [
            "Test Classification Report\n",
            "{'0': {'precision': 0.9778672032193159, 'recall': 0.9878048780487805, 'f1-score': 0.9828109201213346, 'support': 492}, '1': {'precision': 0.9794520547945206, 'recall': 0.9629629629629629, 'f1-score': 0.9711375212224109, 'support': 297}, 'accuracy': 0.9784537389100126, 'macro avg': {'precision': 0.9786596290069183, 'recall': 0.9753839205058716, 'f1-score': 0.9769742206718728, 'support': 789}, 'weighted avg': {'precision': 0.978463782329374, 'recall': 0.9784537389100126, 'f1-score': 0.9784167509540591, 'support': 789}}\n",
            "Validation Classification Report\n",
            "{'0': {'precision': 0.8, 'recall': 0.9122807017543859, 'f1-score': 0.8524590163934427, 'support': 57}, '1': {'precision': 0.8571428571428571, 'recall': 0.6976744186046512, 'f1-score': 0.7692307692307693, 'support': 43}, 'accuracy': 0.82, 'macro avg': {'precision': 0.8285714285714285, 'recall': 0.8049775601795186, 'f1-score': 0.8108448928121059, 'support': 100}, 'weighted avg': {'precision': 0.8245714285714285, 'recall': 0.82, 'f1-score': 0.816670870113493, 'support': 100}}\n",
            "0.82\n"
          ],
          "name": "stdout"
        }
      ]
    },
    {
      "cell_type": "markdown",
      "metadata": {
        "id": "WcfaOnPwGCfn"
      },
      "source": [
        "\n",
        "## Naive Bayes\n"
      ]
    },
    {
      "cell_type": "code",
      "metadata": {
        "colab": {
          "base_uri": "https://localhost:8080/",
          "height": 203
        },
        "id": "d7oTJ2794-Ak",
        "outputId": "eec56af5-c078-470c-c966-a219c8ceb2bf"
      },
      "source": [
        "features = ['Sex', 'Cabin', 'NanAge']\n",
        "y_train = train['Survived']\n",
        "nb = GaussianNB()\n",
        "nb.fit(train[features], y_train)\n",
        "train['Prediction_NB'] = nb.predict(train[features])\n",
        "val['Prediction_NB'] = nb.predict(val[features])\n",
        "val.head()"
      ],
      "execution_count": 240,
      "outputs": [
        {
          "output_type": "execute_result",
          "data": {
            "text/html": [
              "<div>\n",
              "<style scoped>\n",
              "    .dataframe tbody tr th:only-of-type {\n",
              "        vertical-align: middle;\n",
              "    }\n",
              "\n",
              "    .dataframe tbody tr th {\n",
              "        vertical-align: top;\n",
              "    }\n",
              "\n",
              "    .dataframe thead th {\n",
              "        text-align: right;\n",
              "    }\n",
              "</style>\n",
              "<table border=\"1\" class=\"dataframe\">\n",
              "  <thead>\n",
              "    <tr style=\"text-align: right;\">\n",
              "      <th></th>\n",
              "      <th>PassengerId</th>\n",
              "      <th>Survived</th>\n",
              "      <th>Pclass</th>\n",
              "      <th>Sex</th>\n",
              "      <th>Age</th>\n",
              "      <th>SibSp</th>\n",
              "      <th>Parch</th>\n",
              "      <th>Cabin</th>\n",
              "      <th>Embarked</th>\n",
              "      <th>NanAge</th>\n",
              "      <th>FPP</th>\n",
              "      <th>Prediction_RF</th>\n",
              "      <th>Prediction_NB</th>\n",
              "    </tr>\n",
              "  </thead>\n",
              "  <tbody>\n",
              "    <tr>\n",
              "      <th>678</th>\n",
              "      <td>679</td>\n",
              "      <td>0</td>\n",
              "      <td>3</td>\n",
              "      <td>0</td>\n",
              "      <td>43.000000</td>\n",
              "      <td>1</td>\n",
              "      <td>6</td>\n",
              "      <td>0</td>\n",
              "      <td>3</td>\n",
              "      <td>0</td>\n",
              "      <td>5.86250</td>\n",
              "      <td>0</td>\n",
              "      <td>1</td>\n",
              "    </tr>\n",
              "    <tr>\n",
              "      <th>655</th>\n",
              "      <td>656</td>\n",
              "      <td>0</td>\n",
              "      <td>2</td>\n",
              "      <td>1</td>\n",
              "      <td>24.000000</td>\n",
              "      <td>2</td>\n",
              "      <td>0</td>\n",
              "      <td>0</td>\n",
              "      <td>3</td>\n",
              "      <td>0</td>\n",
              "      <td>24.50000</td>\n",
              "      <td>0</td>\n",
              "      <td>0</td>\n",
              "    </tr>\n",
              "    <tr>\n",
              "      <th>451</th>\n",
              "      <td>452</td>\n",
              "      <td>0</td>\n",
              "      <td>3</td>\n",
              "      <td>1</td>\n",
              "      <td>29.699118</td>\n",
              "      <td>1</td>\n",
              "      <td>0</td>\n",
              "      <td>0</td>\n",
              "      <td>3</td>\n",
              "      <td>1</td>\n",
              "      <td>9.98335</td>\n",
              "      <td>0</td>\n",
              "      <td>0</td>\n",
              "    </tr>\n",
              "    <tr>\n",
              "      <th>862</th>\n",
              "      <td>863</td>\n",
              "      <td>1</td>\n",
              "      <td>1</td>\n",
              "      <td>0</td>\n",
              "      <td>48.000000</td>\n",
              "      <td>0</td>\n",
              "      <td>0</td>\n",
              "      <td>1</td>\n",
              "      <td>3</td>\n",
              "      <td>0</td>\n",
              "      <td>25.92920</td>\n",
              "      <td>1</td>\n",
              "      <td>1</td>\n",
              "    </tr>\n",
              "    <tr>\n",
              "      <th>12</th>\n",
              "      <td>13</td>\n",
              "      <td>0</td>\n",
              "      <td>3</td>\n",
              "      <td>1</td>\n",
              "      <td>20.000000</td>\n",
              "      <td>0</td>\n",
              "      <td>0</td>\n",
              "      <td>0</td>\n",
              "      <td>3</td>\n",
              "      <td>0</td>\n",
              "      <td>8.05000</td>\n",
              "      <td>0</td>\n",
              "      <td>0</td>\n",
              "    </tr>\n",
              "  </tbody>\n",
              "</table>\n",
              "</div>"
            ],
            "text/plain": [
              "     PassengerId  Survived  Pclass  ...       FPP  Prediction_RF  Prediction_NB\n",
              "678          679         0       3  ...   5.86250              0              1\n",
              "655          656         0       2  ...  24.50000              0              0\n",
              "451          452         0       3  ...   9.98335              0              0\n",
              "862          863         1       1  ...  25.92920              1              1\n",
              "12            13         0       3  ...   8.05000              0              0\n",
              "\n",
              "[5 rows x 13 columns]"
            ]
          },
          "metadata": {
            "tags": []
          },
          "execution_count": 240
        }
      ]
    },
    {
      "cell_type": "code",
      "metadata": {
        "colab": {
          "base_uri": "https://localhost:8080/"
        },
        "id": "FxzrfHqARqgn",
        "outputId": "b3062447-85d5-4711-8ebc-6cb5c03c608f"
      },
      "source": [
        "test_NB_classification_report = classification_report(train['Survived'], train['Prediction_NB'], output_dict= True)\n",
        "val_NB_classification_report = classification_report(val['Survived'], val['Prediction_NB'], output_dict= True)\n",
        "print(test_NB_classification_report)\n",
        "print(val_NB_classification_report)\n",
        "print(val_NB_classification_report['accuracy'])"
      ],
      "execution_count": 241,
      "outputs": [
        {
          "output_type": "stream",
          "text": [
            "{'0': {'precision': 0.8544600938967136, 'recall': 0.7398373983739838, 'f1-score': 0.7930283224400873, 'support': 492}, '1': {'precision': 0.6473829201101928, 'recall': 0.7912457912457912, 'f1-score': 0.7121212121212122, 'support': 297}, 'accuracy': 0.7591888466413181, 'macro avg': {'precision': 0.7509215070034532, 'recall': 0.7655415948098875, 'f1-score': 0.7525747672806498, 'support': 789}, 'weighted avg': {'precision': 0.7765108915968446, 'recall': 0.7591888466413181, 'f1-score': 0.7625727942211951, 'support': 789}}\n",
            "{'0': {'precision': 0.8928571428571429, 'recall': 0.8771929824561403, 'f1-score': 0.8849557522123894, 'support': 57}, '1': {'precision': 0.8409090909090909, 'recall': 0.8604651162790697, 'f1-score': 0.8505747126436781, 'support': 43}, 'accuracy': 0.87, 'macro avg': {'precision': 0.8668831168831169, 'recall': 0.868829049367605, 'f1-score': 0.8677652324280338, 'support': 100}, 'weighted avg': {'precision': 0.8705194805194806, 'recall': 0.87, 'f1-score': 0.8701719051978435, 'support': 100}}\n",
            "0.87\n"
          ],
          "name": "stdout"
        }
      ]
    },
    {
      "cell_type": "markdown",
      "metadata": {
        "id": "FxfgWgzLTKlf"
      },
      "source": [
        "## Logistic Classification"
      ]
    },
    {
      "cell_type": "code",
      "metadata": {
        "colab": {
          "base_uri": "https://localhost:8080/",
          "height": 203
        },
        "id": "STRkJG_ETHgj",
        "outputId": "9db7b636-7f52-4b16-9b80-2544b3691c8b"
      },
      "source": [
        "features = ['FPP', 'Age']\n",
        "y_train = train['Survived']\n",
        "lr = LogisticRegression()\n",
        "lr.fit(train[features], y_train)\n",
        "train['Prediction_LR'] = lr.predict(train[features])\n",
        "val['Prediction_LR'] = lr.predict(val[features])\n",
        "val.head()"
      ],
      "execution_count": 242,
      "outputs": [
        {
          "output_type": "execute_result",
          "data": {
            "text/html": [
              "<div>\n",
              "<style scoped>\n",
              "    .dataframe tbody tr th:only-of-type {\n",
              "        vertical-align: middle;\n",
              "    }\n",
              "\n",
              "    .dataframe tbody tr th {\n",
              "        vertical-align: top;\n",
              "    }\n",
              "\n",
              "    .dataframe thead th {\n",
              "        text-align: right;\n",
              "    }\n",
              "</style>\n",
              "<table border=\"1\" class=\"dataframe\">\n",
              "  <thead>\n",
              "    <tr style=\"text-align: right;\">\n",
              "      <th></th>\n",
              "      <th>PassengerId</th>\n",
              "      <th>Survived</th>\n",
              "      <th>Pclass</th>\n",
              "      <th>Sex</th>\n",
              "      <th>Age</th>\n",
              "      <th>SibSp</th>\n",
              "      <th>Parch</th>\n",
              "      <th>Cabin</th>\n",
              "      <th>Embarked</th>\n",
              "      <th>NanAge</th>\n",
              "      <th>FPP</th>\n",
              "      <th>Prediction_RF</th>\n",
              "      <th>Prediction_NB</th>\n",
              "      <th>Prediction_LR</th>\n",
              "    </tr>\n",
              "  </thead>\n",
              "  <tbody>\n",
              "    <tr>\n",
              "      <th>678</th>\n",
              "      <td>679</td>\n",
              "      <td>0</td>\n",
              "      <td>3</td>\n",
              "      <td>0</td>\n",
              "      <td>43.000000</td>\n",
              "      <td>1</td>\n",
              "      <td>6</td>\n",
              "      <td>0</td>\n",
              "      <td>3</td>\n",
              "      <td>0</td>\n",
              "      <td>5.86250</td>\n",
              "      <td>0</td>\n",
              "      <td>1</td>\n",
              "      <td>0</td>\n",
              "    </tr>\n",
              "    <tr>\n",
              "      <th>655</th>\n",
              "      <td>656</td>\n",
              "      <td>0</td>\n",
              "      <td>2</td>\n",
              "      <td>1</td>\n",
              "      <td>24.000000</td>\n",
              "      <td>2</td>\n",
              "      <td>0</td>\n",
              "      <td>0</td>\n",
              "      <td>3</td>\n",
              "      <td>0</td>\n",
              "      <td>24.50000</td>\n",
              "      <td>0</td>\n",
              "      <td>0</td>\n",
              "      <td>0</td>\n",
              "    </tr>\n",
              "    <tr>\n",
              "      <th>451</th>\n",
              "      <td>452</td>\n",
              "      <td>0</td>\n",
              "      <td>3</td>\n",
              "      <td>1</td>\n",
              "      <td>29.699118</td>\n",
              "      <td>1</td>\n",
              "      <td>0</td>\n",
              "      <td>0</td>\n",
              "      <td>3</td>\n",
              "      <td>1</td>\n",
              "      <td>9.98335</td>\n",
              "      <td>0</td>\n",
              "      <td>0</td>\n",
              "      <td>0</td>\n",
              "    </tr>\n",
              "    <tr>\n",
              "      <th>862</th>\n",
              "      <td>863</td>\n",
              "      <td>1</td>\n",
              "      <td>1</td>\n",
              "      <td>0</td>\n",
              "      <td>48.000000</td>\n",
              "      <td>0</td>\n",
              "      <td>0</td>\n",
              "      <td>1</td>\n",
              "      <td>3</td>\n",
              "      <td>0</td>\n",
              "      <td>25.92920</td>\n",
              "      <td>1</td>\n",
              "      <td>1</td>\n",
              "      <td>0</td>\n",
              "    </tr>\n",
              "    <tr>\n",
              "      <th>12</th>\n",
              "      <td>13</td>\n",
              "      <td>0</td>\n",
              "      <td>3</td>\n",
              "      <td>1</td>\n",
              "      <td>20.000000</td>\n",
              "      <td>0</td>\n",
              "      <td>0</td>\n",
              "      <td>0</td>\n",
              "      <td>3</td>\n",
              "      <td>0</td>\n",
              "      <td>8.05000</td>\n",
              "      <td>0</td>\n",
              "      <td>0</td>\n",
              "      <td>0</td>\n",
              "    </tr>\n",
              "  </tbody>\n",
              "</table>\n",
              "</div>"
            ],
            "text/plain": [
              "     PassengerId  Survived  Pclass  ...  Prediction_RF  Prediction_NB  Prediction_LR\n",
              "678          679         0       3  ...              0              1              0\n",
              "655          656         0       2  ...              0              0              0\n",
              "451          452         0       3  ...              0              0              0\n",
              "862          863         1       1  ...              1              1              0\n",
              "12            13         0       3  ...              0              0              0\n",
              "\n",
              "[5 rows x 14 columns]"
            ]
          },
          "metadata": {
            "tags": []
          },
          "execution_count": 242
        }
      ]
    },
    {
      "cell_type": "code",
      "metadata": {
        "colab": {
          "base_uri": "https://localhost:8080/"
        },
        "id": "hRTnlpAQUAMk",
        "outputId": "faf5594b-bcf6-46b6-e4ea-c266f068eb7c"
      },
      "source": [
        "test_LR_classification_report = classification_report(train['Survived'], train['Prediction_LR'], output_dict= True)\n",
        "val_LR_classification_report = classification_report(val['Survived'], val['Prediction_LR'], output_dict= True)\n",
        "print(test_LR_classification_report)\n",
        "print(val_LR_classification_report)\n",
        "print(val_LR_classification_report['accuracy'])"
      ],
      "execution_count": 243,
      "outputs": [
        {
          "output_type": "stream",
          "text": [
            "{'0': {'precision': 0.6633663366336634, 'recall': 0.9532520325203252, 'f1-score': 0.7823185988323604, 'support': 492}, '1': {'precision': 0.7195121951219512, 'recall': 0.19865319865319866, 'f1-score': 0.3113456464379947, 'support': 297}, 'accuracy': 0.6692015209125475, 'macro avg': {'precision': 0.6914392658778072, 'recall': 0.5759526155867619, 'f1-score': 0.5468321226351776, 'support': 789}, 'weighted avg': {'precision': 0.6845010894486463, 'recall': 0.6692015209125475, 'f1-score': 0.6050322023036828, 'support': 789}}\n",
            "{'0': {'precision': 0.6111111111111112, 'recall': 0.9649122807017544, 'f1-score': 0.7482993197278912, 'support': 57}, '1': {'precision': 0.8, 'recall': 0.18604651162790697, 'f1-score': 0.3018867924528302, 'support': 43}, 'accuracy': 0.63, 'macro avg': {'precision': 0.7055555555555556, 'recall': 0.5754793961648307, 'f1-score': 0.5250930560903607, 'support': 100}, 'weighted avg': {'precision': 0.6923333333333334, 'recall': 0.63, 'f1-score': 0.556341932999615, 'support': 100}}\n",
            "0.63\n"
          ],
          "name": "stdout"
        }
      ]
    },
    {
      "cell_type": "markdown",
      "metadata": {
        "id": "AFmGoHLlZmmE"
      },
      "source": [
        "## Ensemble"
      ]
    },
    {
      "cell_type": "code",
      "metadata": {
        "colab": {
          "base_uri": "https://localhost:8080/",
          "height": 223
        },
        "id": "4vsunSvYZkNK",
        "outputId": "e45fe85a-bc19-4aa5-dbc3-e51e9bef28b6"
      },
      "source": [
        "weights_RF = [val_RF_classification_report['0']['precision'], val_RF_classification_report['1']['precision']]\n",
        "weights_NB = [val_NB_classification_report['0']['precision'], val_NB_classification_report['1']['precision']]\n",
        "weights_LR = [val_LR_classification_report['0']['precision'], val_LR_classification_report['1']['precision']]\n",
        "\n",
        "train['RF_weight'] = train['Prediction_RF'].apply(lambda a: weights_RF[a])\n",
        "train['NB_weight'] = train['Prediction_RF'].apply(lambda a: weights_NB[a])\n",
        "train['LR_weight'] = train['Prediction_RF'].apply(lambda a: weights_LR[a])\n",
        "train['total_weight'] = train['RF_weight'] + train['NB_weight'] + train['LR_weight']\n",
        "train['weighted_val'] = (train['Prediction_RF'] * train['RF_weight'] +\n",
        "                         train['Prediction_NB'] * train['NB_weight'] + \n",
        "                         train['Prediction_LR'] * train['LR_weight'] )/train['total_weight']\n",
        "train['Final_Prediction'] = train['weighted_val'].round().astype('int32')\n",
        "\n",
        "\n",
        "val['RF_weight'] = val['Prediction_RF'].apply(lambda a: weights_RF[a])\n",
        "val['NB_weight'] = val['Prediction_RF'].apply(lambda a: weights_NB[a])\n",
        "val['LR_weight'] = val['Prediction_RF'].apply(lambda a: weights_LR[a])\n",
        "val['total_weight'] = val['RF_weight'] + val['NB_weight'] + val['LR_weight']\n",
        "val['weighted_val'] = (val['Prediction_RF'] * val['RF_weight'] +\n",
        "                         val['Prediction_NB'] * val['NB_weight'] + \n",
        "                         val['Prediction_LR'] * val['LR_weight'] )/val['total_weight']\n",
        "val['Final_Prediction'] = val['weighted_val'].round().astype('int32')\n",
        "val.head()"
      ],
      "execution_count": 244,
      "outputs": [
        {
          "output_type": "execute_result",
          "data": {
            "text/html": [
              "<div>\n",
              "<style scoped>\n",
              "    .dataframe tbody tr th:only-of-type {\n",
              "        vertical-align: middle;\n",
              "    }\n",
              "\n",
              "    .dataframe tbody tr th {\n",
              "        vertical-align: top;\n",
              "    }\n",
              "\n",
              "    .dataframe thead th {\n",
              "        text-align: right;\n",
              "    }\n",
              "</style>\n",
              "<table border=\"1\" class=\"dataframe\">\n",
              "  <thead>\n",
              "    <tr style=\"text-align: right;\">\n",
              "      <th></th>\n",
              "      <th>PassengerId</th>\n",
              "      <th>Survived</th>\n",
              "      <th>Pclass</th>\n",
              "      <th>Sex</th>\n",
              "      <th>Age</th>\n",
              "      <th>SibSp</th>\n",
              "      <th>Parch</th>\n",
              "      <th>Cabin</th>\n",
              "      <th>Embarked</th>\n",
              "      <th>NanAge</th>\n",
              "      <th>FPP</th>\n",
              "      <th>Prediction_RF</th>\n",
              "      <th>Prediction_NB</th>\n",
              "      <th>Prediction_LR</th>\n",
              "      <th>RF_weight</th>\n",
              "      <th>NB_weight</th>\n",
              "      <th>LR_weight</th>\n",
              "      <th>total_weight</th>\n",
              "      <th>weighted_val</th>\n",
              "      <th>Final_Prediction</th>\n",
              "    </tr>\n",
              "  </thead>\n",
              "  <tbody>\n",
              "    <tr>\n",
              "      <th>678</th>\n",
              "      <td>679</td>\n",
              "      <td>0</td>\n",
              "      <td>3</td>\n",
              "      <td>0</td>\n",
              "      <td>43.000000</td>\n",
              "      <td>1</td>\n",
              "      <td>6</td>\n",
              "      <td>0</td>\n",
              "      <td>3</td>\n",
              "      <td>0</td>\n",
              "      <td>5.86250</td>\n",
              "      <td>0</td>\n",
              "      <td>1</td>\n",
              "      <td>0</td>\n",
              "      <td>0.800000</td>\n",
              "      <td>0.892857</td>\n",
              "      <td>0.611111</td>\n",
              "      <td>2.303968</td>\n",
              "      <td>0.38753</td>\n",
              "      <td>0</td>\n",
              "    </tr>\n",
              "    <tr>\n",
              "      <th>655</th>\n",
              "      <td>656</td>\n",
              "      <td>0</td>\n",
              "      <td>2</td>\n",
              "      <td>1</td>\n",
              "      <td>24.000000</td>\n",
              "      <td>2</td>\n",
              "      <td>0</td>\n",
              "      <td>0</td>\n",
              "      <td>3</td>\n",
              "      <td>0</td>\n",
              "      <td>24.50000</td>\n",
              "      <td>0</td>\n",
              "      <td>0</td>\n",
              "      <td>0</td>\n",
              "      <td>0.800000</td>\n",
              "      <td>0.892857</td>\n",
              "      <td>0.611111</td>\n",
              "      <td>2.303968</td>\n",
              "      <td>0.00000</td>\n",
              "      <td>0</td>\n",
              "    </tr>\n",
              "    <tr>\n",
              "      <th>451</th>\n",
              "      <td>452</td>\n",
              "      <td>0</td>\n",
              "      <td>3</td>\n",
              "      <td>1</td>\n",
              "      <td>29.699118</td>\n",
              "      <td>1</td>\n",
              "      <td>0</td>\n",
              "      <td>0</td>\n",
              "      <td>3</td>\n",
              "      <td>1</td>\n",
              "      <td>9.98335</td>\n",
              "      <td>0</td>\n",
              "      <td>0</td>\n",
              "      <td>0</td>\n",
              "      <td>0.800000</td>\n",
              "      <td>0.892857</td>\n",
              "      <td>0.611111</td>\n",
              "      <td>2.303968</td>\n",
              "      <td>0.00000</td>\n",
              "      <td>0</td>\n",
              "    </tr>\n",
              "    <tr>\n",
              "      <th>862</th>\n",
              "      <td>863</td>\n",
              "      <td>1</td>\n",
              "      <td>1</td>\n",
              "      <td>0</td>\n",
              "      <td>48.000000</td>\n",
              "      <td>0</td>\n",
              "      <td>0</td>\n",
              "      <td>1</td>\n",
              "      <td>3</td>\n",
              "      <td>0</td>\n",
              "      <td>25.92920</td>\n",
              "      <td>1</td>\n",
              "      <td>1</td>\n",
              "      <td>0</td>\n",
              "      <td>0.857143</td>\n",
              "      <td>0.840909</td>\n",
              "      <td>0.800000</td>\n",
              "      <td>2.498052</td>\n",
              "      <td>0.67975</td>\n",
              "      <td>1</td>\n",
              "    </tr>\n",
              "    <tr>\n",
              "      <th>12</th>\n",
              "      <td>13</td>\n",
              "      <td>0</td>\n",
              "      <td>3</td>\n",
              "      <td>1</td>\n",
              "      <td>20.000000</td>\n",
              "      <td>0</td>\n",
              "      <td>0</td>\n",
              "      <td>0</td>\n",
              "      <td>3</td>\n",
              "      <td>0</td>\n",
              "      <td>8.05000</td>\n",
              "      <td>0</td>\n",
              "      <td>0</td>\n",
              "      <td>0</td>\n",
              "      <td>0.800000</td>\n",
              "      <td>0.892857</td>\n",
              "      <td>0.611111</td>\n",
              "      <td>2.303968</td>\n",
              "      <td>0.00000</td>\n",
              "      <td>0</td>\n",
              "    </tr>\n",
              "  </tbody>\n",
              "</table>\n",
              "</div>"
            ],
            "text/plain": [
              "     PassengerId  Survived  ...  weighted_val  Final_Prediction\n",
              "678          679         0  ...       0.38753                 0\n",
              "655          656         0  ...       0.00000                 0\n",
              "451          452         0  ...       0.00000                 0\n",
              "862          863         1  ...       0.67975                 1\n",
              "12            13         0  ...       0.00000                 0\n",
              "\n",
              "[5 rows x 20 columns]"
            ]
          },
          "metadata": {
            "tags": []
          },
          "execution_count": 244
        }
      ]
    },
    {
      "cell_type": "code",
      "metadata": {
        "colab": {
          "base_uri": "https://localhost:8080/"
        },
        "id": "zNOhd13ef3y1",
        "outputId": "d8fc12d8-1fd1-4427-fa4f-d606ffc62b7b"
      },
      "source": [
        "print('----Training Classification Report')\n",
        "print(classification_report(train['Survived'], train['Final_Prediction']))\n",
        "print('----Validation Classification Report')\n",
        "print(classification_report(val['Survived'], val['Final_Prediction']))"
      ],
      "execution_count": 245,
      "outputs": [
        {
          "output_type": "stream",
          "text": [
            "----Training Classification Report\n",
            "              precision    recall  f1-score   support\n",
            "\n",
            "           0       0.89      0.97      0.93       492\n",
            "           1       0.95      0.80      0.87       297\n",
            "\n",
            "    accuracy                           0.91       789\n",
            "   macro avg       0.92      0.89      0.90       789\n",
            "weighted avg       0.91      0.91      0.91       789\n",
            "\n",
            "----Validation Classification Report\n",
            "              precision    recall  f1-score   support\n",
            "\n",
            "           0       0.82      0.95      0.88        57\n",
            "           1       0.91      0.72      0.81        43\n",
            "\n",
            "    accuracy                           0.85       100\n",
            "   macro avg       0.86      0.83      0.84       100\n",
            "weighted avg       0.86      0.85      0.85       100\n",
            "\n"
          ],
          "name": "stdout"
        }
      ]
    },
    {
      "cell_type": "markdown",
      "metadata": {
        "id": "SMUNC9_ggwko"
      },
      "source": [
        "## Final Prediction"
      ]
    },
    {
      "cell_type": "code",
      "metadata": {
        "colab": {
          "base_uri": "https://localhost:8080/",
          "height": 203
        },
        "id": "PL9sWbsJgmE_",
        "outputId": "1f247bc6-739e-4fc6-a500-2b6be347ef2d"
      },
      "source": [
        "features = ['Pclass', 'Sex', 'Age', 'SibSp', 'Parch','Cabin', 'Embarked','FPP', 'NanAge']\n",
        "test['Prediction_RF'] = rf.predict(test[features])\n",
        "features = ['Sex', 'Cabin', 'NanAge']\n",
        "test['Prediction_NB'] = nb.predict(test[features])\n",
        "features = ['FPP', 'Age']\n",
        "test['Prediction_LR'] = lr.predict(test[features])\n",
        "test.head()"
      ],
      "execution_count": 256,
      "outputs": [
        {
          "output_type": "execute_result",
          "data": {
            "text/html": [
              "<div>\n",
              "<style scoped>\n",
              "    .dataframe tbody tr th:only-of-type {\n",
              "        vertical-align: middle;\n",
              "    }\n",
              "\n",
              "    .dataframe tbody tr th {\n",
              "        vertical-align: top;\n",
              "    }\n",
              "\n",
              "    .dataframe thead th {\n",
              "        text-align: right;\n",
              "    }\n",
              "</style>\n",
              "<table border=\"1\" class=\"dataframe\">\n",
              "  <thead>\n",
              "    <tr style=\"text-align: right;\">\n",
              "      <th></th>\n",
              "      <th>PassengerId</th>\n",
              "      <th>Pclass</th>\n",
              "      <th>Sex</th>\n",
              "      <th>Age</th>\n",
              "      <th>SibSp</th>\n",
              "      <th>Parch</th>\n",
              "      <th>Cabin</th>\n",
              "      <th>Embarked</th>\n",
              "      <th>FPP</th>\n",
              "      <th>NanAge</th>\n",
              "      <th>Prediction_RF</th>\n",
              "      <th>Prediction_NB</th>\n",
              "      <th>Prediction_LR</th>\n",
              "    </tr>\n",
              "  </thead>\n",
              "  <tbody>\n",
              "    <tr>\n",
              "      <th>0</th>\n",
              "      <td>892</td>\n",
              "      <td>3</td>\n",
              "      <td>1</td>\n",
              "      <td>34.5</td>\n",
              "      <td>0</td>\n",
              "      <td>0</td>\n",
              "      <td>0</td>\n",
              "      <td>2</td>\n",
              "      <td>7.829200</td>\n",
              "      <td>0</td>\n",
              "      <td>0</td>\n",
              "      <td>0</td>\n",
              "      <td>0</td>\n",
              "    </tr>\n",
              "    <tr>\n",
              "      <th>1</th>\n",
              "      <td>893</td>\n",
              "      <td>3</td>\n",
              "      <td>0</td>\n",
              "      <td>47.0</td>\n",
              "      <td>1</td>\n",
              "      <td>0</td>\n",
              "      <td>0</td>\n",
              "      <td>3</td>\n",
              "      <td>3.500000</td>\n",
              "      <td>0</td>\n",
              "      <td>0</td>\n",
              "      <td>1</td>\n",
              "      <td>0</td>\n",
              "    </tr>\n",
              "    <tr>\n",
              "      <th>2</th>\n",
              "      <td>894</td>\n",
              "      <td>2</td>\n",
              "      <td>1</td>\n",
              "      <td>62.0</td>\n",
              "      <td>0</td>\n",
              "      <td>0</td>\n",
              "      <td>0</td>\n",
              "      <td>2</td>\n",
              "      <td>9.687500</td>\n",
              "      <td>0</td>\n",
              "      <td>0</td>\n",
              "      <td>0</td>\n",
              "      <td>0</td>\n",
              "    </tr>\n",
              "    <tr>\n",
              "      <th>3</th>\n",
              "      <td>895</td>\n",
              "      <td>3</td>\n",
              "      <td>1</td>\n",
              "      <td>27.0</td>\n",
              "      <td>0</td>\n",
              "      <td>0</td>\n",
              "      <td>0</td>\n",
              "      <td>3</td>\n",
              "      <td>8.662500</td>\n",
              "      <td>0</td>\n",
              "      <td>0</td>\n",
              "      <td>0</td>\n",
              "      <td>0</td>\n",
              "    </tr>\n",
              "    <tr>\n",
              "      <th>4</th>\n",
              "      <td>896</td>\n",
              "      <td>3</td>\n",
              "      <td>0</td>\n",
              "      <td>22.0</td>\n",
              "      <td>1</td>\n",
              "      <td>1</td>\n",
              "      <td>0</td>\n",
              "      <td>3</td>\n",
              "      <td>4.095833</td>\n",
              "      <td>0</td>\n",
              "      <td>0</td>\n",
              "      <td>1</td>\n",
              "      <td>0</td>\n",
              "    </tr>\n",
              "  </tbody>\n",
              "</table>\n",
              "</div>"
            ],
            "text/plain": [
              "   PassengerId  Pclass  Sex  ...  Prediction_RF  Prediction_NB  Prediction_LR\n",
              "0          892       3    1  ...              0              0              0\n",
              "1          893       3    0  ...              0              1              0\n",
              "2          894       2    1  ...              0              0              0\n",
              "3          895       3    1  ...              0              0              0\n",
              "4          896       3    0  ...              0              1              0\n",
              "\n",
              "[5 rows x 13 columns]"
            ]
          },
          "metadata": {
            "tags": []
          },
          "execution_count": 256
        }
      ]
    },
    {
      "cell_type": "code",
      "metadata": {
        "colab": {
          "base_uri": "https://localhost:8080/",
          "height": 223
        },
        "id": "yF3m0UZnhS2_",
        "outputId": "6d643707-85c6-4173-a2d8-b1b5aef3df83"
      },
      "source": [
        "test['RF_weight'] = test['Prediction_RF'].apply(lambda a: weights_RF[a])\n",
        "test['NB_weight'] = test['Prediction_RF'].apply(lambda a: weights_NB[a])\n",
        "test['LR_weight'] = test['Prediction_RF'].apply(lambda a: weights_LR[a])\n",
        "test['total_weight'] = test['RF_weight'] + test['NB_weight'] + test['LR_weight']\n",
        "test['weighted_test'] = (test['Prediction_RF'] * test['RF_weight'] +\n",
        "                         test['Prediction_NB'] * test['NB_weight'] + \n",
        "                         test['Prediction_LR'] * test['LR_weight'] )/test['total_weight']\n",
        "test['Survived'] = test['weighted_test'].round().astype('int32')\n",
        "test.head()"
      ],
      "execution_count": 257,
      "outputs": [
        {
          "output_type": "execute_result",
          "data": {
            "text/html": [
              "<div>\n",
              "<style scoped>\n",
              "    .dataframe tbody tr th:only-of-type {\n",
              "        vertical-align: middle;\n",
              "    }\n",
              "\n",
              "    .dataframe tbody tr th {\n",
              "        vertical-align: top;\n",
              "    }\n",
              "\n",
              "    .dataframe thead th {\n",
              "        text-align: right;\n",
              "    }\n",
              "</style>\n",
              "<table border=\"1\" class=\"dataframe\">\n",
              "  <thead>\n",
              "    <tr style=\"text-align: right;\">\n",
              "      <th></th>\n",
              "      <th>PassengerId</th>\n",
              "      <th>Pclass</th>\n",
              "      <th>Sex</th>\n",
              "      <th>Age</th>\n",
              "      <th>SibSp</th>\n",
              "      <th>Parch</th>\n",
              "      <th>Cabin</th>\n",
              "      <th>Embarked</th>\n",
              "      <th>FPP</th>\n",
              "      <th>NanAge</th>\n",
              "      <th>Prediction_RF</th>\n",
              "      <th>Prediction_NB</th>\n",
              "      <th>Prediction_LR</th>\n",
              "      <th>RF_weight</th>\n",
              "      <th>NB_weight</th>\n",
              "      <th>LR_weight</th>\n",
              "      <th>total_weight</th>\n",
              "      <th>weighted_test</th>\n",
              "      <th>Survived</th>\n",
              "    </tr>\n",
              "  </thead>\n",
              "  <tbody>\n",
              "    <tr>\n",
              "      <th>0</th>\n",
              "      <td>892</td>\n",
              "      <td>3</td>\n",
              "      <td>1</td>\n",
              "      <td>34.5</td>\n",
              "      <td>0</td>\n",
              "      <td>0</td>\n",
              "      <td>0</td>\n",
              "      <td>2</td>\n",
              "      <td>7.829200</td>\n",
              "      <td>0</td>\n",
              "      <td>0</td>\n",
              "      <td>0</td>\n",
              "      <td>0</td>\n",
              "      <td>0.8</td>\n",
              "      <td>0.892857</td>\n",
              "      <td>0.611111</td>\n",
              "      <td>2.303968</td>\n",
              "      <td>0.00000</td>\n",
              "      <td>0</td>\n",
              "    </tr>\n",
              "    <tr>\n",
              "      <th>1</th>\n",
              "      <td>893</td>\n",
              "      <td>3</td>\n",
              "      <td>0</td>\n",
              "      <td>47.0</td>\n",
              "      <td>1</td>\n",
              "      <td>0</td>\n",
              "      <td>0</td>\n",
              "      <td>3</td>\n",
              "      <td>3.500000</td>\n",
              "      <td>0</td>\n",
              "      <td>0</td>\n",
              "      <td>1</td>\n",
              "      <td>0</td>\n",
              "      <td>0.8</td>\n",
              "      <td>0.892857</td>\n",
              "      <td>0.611111</td>\n",
              "      <td>2.303968</td>\n",
              "      <td>0.38753</td>\n",
              "      <td>0</td>\n",
              "    </tr>\n",
              "    <tr>\n",
              "      <th>2</th>\n",
              "      <td>894</td>\n",
              "      <td>2</td>\n",
              "      <td>1</td>\n",
              "      <td>62.0</td>\n",
              "      <td>0</td>\n",
              "      <td>0</td>\n",
              "      <td>0</td>\n",
              "      <td>2</td>\n",
              "      <td>9.687500</td>\n",
              "      <td>0</td>\n",
              "      <td>0</td>\n",
              "      <td>0</td>\n",
              "      <td>0</td>\n",
              "      <td>0.8</td>\n",
              "      <td>0.892857</td>\n",
              "      <td>0.611111</td>\n",
              "      <td>2.303968</td>\n",
              "      <td>0.00000</td>\n",
              "      <td>0</td>\n",
              "    </tr>\n",
              "    <tr>\n",
              "      <th>3</th>\n",
              "      <td>895</td>\n",
              "      <td>3</td>\n",
              "      <td>1</td>\n",
              "      <td>27.0</td>\n",
              "      <td>0</td>\n",
              "      <td>0</td>\n",
              "      <td>0</td>\n",
              "      <td>3</td>\n",
              "      <td>8.662500</td>\n",
              "      <td>0</td>\n",
              "      <td>0</td>\n",
              "      <td>0</td>\n",
              "      <td>0</td>\n",
              "      <td>0.8</td>\n",
              "      <td>0.892857</td>\n",
              "      <td>0.611111</td>\n",
              "      <td>2.303968</td>\n",
              "      <td>0.00000</td>\n",
              "      <td>0</td>\n",
              "    </tr>\n",
              "    <tr>\n",
              "      <th>4</th>\n",
              "      <td>896</td>\n",
              "      <td>3</td>\n",
              "      <td>0</td>\n",
              "      <td>22.0</td>\n",
              "      <td>1</td>\n",
              "      <td>1</td>\n",
              "      <td>0</td>\n",
              "      <td>3</td>\n",
              "      <td>4.095833</td>\n",
              "      <td>0</td>\n",
              "      <td>0</td>\n",
              "      <td>1</td>\n",
              "      <td>0</td>\n",
              "      <td>0.8</td>\n",
              "      <td>0.892857</td>\n",
              "      <td>0.611111</td>\n",
              "      <td>2.303968</td>\n",
              "      <td>0.38753</td>\n",
              "      <td>0</td>\n",
              "    </tr>\n",
              "  </tbody>\n",
              "</table>\n",
              "</div>"
            ],
            "text/plain": [
              "   PassengerId  Pclass  Sex  ...  total_weight  weighted_test  Survived\n",
              "0          892       3    1  ...      2.303968        0.00000         0\n",
              "1          893       3    0  ...      2.303968        0.38753         0\n",
              "2          894       2    1  ...      2.303968        0.00000         0\n",
              "3          895       3    1  ...      2.303968        0.00000         0\n",
              "4          896       3    0  ...      2.303968        0.38753         0\n",
              "\n",
              "[5 rows x 19 columns]"
            ]
          },
          "metadata": {
            "tags": []
          },
          "execution_count": 257
        }
      ]
    },
    {
      "cell_type": "markdown",
      "metadata": {
        "id": "XnAXhSVXi1AR"
      },
      "source": [
        "# Final Output\n"
      ]
    },
    {
      "cell_type": "code",
      "metadata": {
        "id": "ICUo6sb2i8Oz",
        "colab": {
          "base_uri": "https://localhost:8080/",
          "height": 203
        },
        "outputId": "74815c50-f22c-4383-c995-13b4c8a4a87b"
      },
      "source": [
        "test.drop(test.columns.difference(['PassengerId','Survived']), 1, inplace=True)\n",
        "test.head()"
      ],
      "execution_count": 258,
      "outputs": [
        {
          "output_type": "execute_result",
          "data": {
            "text/html": [
              "<div>\n",
              "<style scoped>\n",
              "    .dataframe tbody tr th:only-of-type {\n",
              "        vertical-align: middle;\n",
              "    }\n",
              "\n",
              "    .dataframe tbody tr th {\n",
              "        vertical-align: top;\n",
              "    }\n",
              "\n",
              "    .dataframe thead th {\n",
              "        text-align: right;\n",
              "    }\n",
              "</style>\n",
              "<table border=\"1\" class=\"dataframe\">\n",
              "  <thead>\n",
              "    <tr style=\"text-align: right;\">\n",
              "      <th></th>\n",
              "      <th>PassengerId</th>\n",
              "      <th>Survived</th>\n",
              "    </tr>\n",
              "  </thead>\n",
              "  <tbody>\n",
              "    <tr>\n",
              "      <th>0</th>\n",
              "      <td>892</td>\n",
              "      <td>0</td>\n",
              "    </tr>\n",
              "    <tr>\n",
              "      <th>1</th>\n",
              "      <td>893</td>\n",
              "      <td>0</td>\n",
              "    </tr>\n",
              "    <tr>\n",
              "      <th>2</th>\n",
              "      <td>894</td>\n",
              "      <td>0</td>\n",
              "    </tr>\n",
              "    <tr>\n",
              "      <th>3</th>\n",
              "      <td>895</td>\n",
              "      <td>0</td>\n",
              "    </tr>\n",
              "    <tr>\n",
              "      <th>4</th>\n",
              "      <td>896</td>\n",
              "      <td>0</td>\n",
              "    </tr>\n",
              "  </tbody>\n",
              "</table>\n",
              "</div>"
            ],
            "text/plain": [
              "   PassengerId  Survived\n",
              "0          892         0\n",
              "1          893         0\n",
              "2          894         0\n",
              "3          895         0\n",
              "4          896         0"
            ]
          },
          "metadata": {
            "tags": []
          },
          "execution_count": 258
        }
      ]
    },
    {
      "cell_type": "code",
      "metadata": {
        "id": "n1zBuF-rkgg3"
      },
      "source": [
        "test.to_csv('submission.csv', index = False)"
      ],
      "execution_count": 259,
      "outputs": []
    }
  ]
}